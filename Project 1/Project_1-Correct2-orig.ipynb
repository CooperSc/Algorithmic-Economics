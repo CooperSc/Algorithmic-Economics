{
 "cells": [
  {
   "cell_type": "markdown",
   "id": "9fc30ed8",
   "metadata": {},
   "source": [
    "# CS 4501 Algorithmic Economics - Project 1\n",
    "\n",
    "**Note:** For each of the question, please add some print or graph drawing commands to show your results in a clear way and also necessary analyses and demonstrations to help people who are not in your group understand your logics and results.\n"
   ]
  },
  {
   "cell_type": "markdown",
   "id": "dcd94d38",
   "metadata": {},
   "source": [
    "## Part 1\n",
    "### Question 1\n",
    "Using a Jupyter notebook import the csv file as pandas dataframe."
   ]
  },
  {
   "cell_type": "code",
   "execution_count": 4,
   "id": "428ba198",
   "metadata": {},
   "outputs": [
    {
     "name": "stdout",
     "output_type": "stream",
     "text": [
      "              Date  Customer_ID  Transaction_ID SKU_Category    SKU  Quantity  \\\n",
      "1       02/01/2016         2547               1          X52  0EM7L       1.0   \n",
      "2       02/01/2016          822               2          2ML  68BRQ       1.0   \n",
      "3       02/01/2016         3686               3          0H2  CZUZX       1.0   \n",
      "4       02/01/2016         3719               4          0H2  549KK       1.0   \n",
      "5       02/01/2016         9200               5          0H2  K8EHH       1.0   \n",
      "...            ...          ...             ...          ...    ...       ...   \n",
      "131702  04/07/2016        20203           32900          IEV  FO112       3.0   \n",
      "131703  04/07/2016        20203           32900          N8U  I36F2       1.0   \n",
      "131704  04/07/2016        20203           32900          U5F  4X8P4       1.0   \n",
      "131705  04/07/2016        20203           32900          0H2  ZVTO4       1.0   \n",
      "131706  04/07/2016        20203           32900          Q4N  QM9BP       1.0   \n",
      "\n",
      "        Sales_Amount  \n",
      "1               3.13  \n",
      "2               5.46  \n",
      "3               6.35  \n",
      "4               5.59  \n",
      "5               6.88  \n",
      "...              ...  \n",
      "131702          6.46  \n",
      "131703          4.50  \n",
      "131704          5.19  \n",
      "131705          4.57  \n",
      "131706         13.68  \n",
      "\n",
      "[131706 rows x 7 columns]\n",
      "Number of Customer_ID 22625\n",
      "Number of SKU   5242\n",
      "             Date  Customer_ID  Transaction_ID SKU_Category    SKU  Quantity  \\\n",
      "1      2016-01-02         2547               1          X52  0EM7L       1.0   \n",
      "2      2016-01-02          822               2          2ML  68BRQ       1.0   \n",
      "3      2016-01-02         3686               3          0H2  CZUZX       1.0   \n",
      "4      2016-01-02         3719               4          0H2  549KK       1.0   \n",
      "5      2016-01-02         9200               5          0H2  K8EHH       1.0   \n",
      "...           ...          ...             ...          ...    ...       ...   \n",
      "131702 2016-07-04        20203           32900          IEV  FO112       3.0   \n",
      "131703 2016-07-04        20203           32900          N8U  I36F2       1.0   \n",
      "131704 2016-07-04        20203           32900          U5F  4X8P4       1.0   \n",
      "131705 2016-07-04        20203           32900          0H2  ZVTO4       1.0   \n",
      "131706 2016-07-04        20203           32900          Q4N  QM9BP       1.0   \n",
      "\n",
      "        Sales_Amount  \n",
      "1               3.13  \n",
      "2               5.46  \n",
      "3               6.35  \n",
      "4               5.59  \n",
      "5               6.88  \n",
      "...              ...  \n",
      "131702          6.46  \n",
      "131703          4.50  \n",
      "131704          5.19  \n",
      "131705          4.57  \n",
      "131706         13.68  \n",
      "\n",
      "[131706 rows x 7 columns]\n"
     ]
    }
   ],
   "source": [
    "import pandas as pd\n",
    "import numpy as np\n",
    "import time as time\n",
    "from tqdm import tqdm\n",
    "from sklearn import linear_model as lm\n",
    "import matplotlib.pyplot as plt\n",
    "df = pd.read_csv('./scanner_data.csv', index_col=0) # Tell pandas to ignore index column\n",
    "print(df)\n",
    "# Note: data format is DD/MM/YYYY and starts at 2/1/2016\n",
    "df['Date'] = pd.to_datetime(df['Date'], format='%d/%m/%Y')\n",
    "\n",
    "print(  \"Number of Customer_ID\",    len(pd.unique(df['Customer_ID']))  )\n",
    "print(  \"Number of SKU  \",    len(pd.unique(df['SKU']))  )\n",
    "print(df)"
   ]
  },
  {
   "cell_type": "code",
   "execution_count": 5,
   "id": "90865fc2",
   "metadata": {},
   "outputs": [
    {
     "data": {
      "text/plain": [
       "<AxesSubplot:ylabel='Frequency'>"
      ]
     },
     "execution_count": 5,
     "metadata": {},
     "output_type": "execute_result"
    },
    {
     "data": {
      "image/png": "[encoded data removed]",
      "text/plain": [
       "<Figure size 432x288 with 1 Axes>"
      ]
     },
     "metadata": {
      "needs_background": "light"
     },
     "output_type": "display_data"
    }
   ],
   "source": [
    "df.plot(x = \"Sales_Amount\", y = \"Quantity\", kind = \"hist\", stacked = True, bins=4)"
   ]
  },
  {
   "cell_type": "markdown",
   "id": "95ca3f70",
   "metadata": {},
   "source": [
    "### Question 2\n",
    "The fact that consumer does not purchase anything can be \n",
    "interpreted as that she chose an outside option. Given that the fact that she chose an outside option is not recorded in this dataset, argue how you would construct a proxi variable for the choice of an outside option. Add such a proxi variable to your dataframe. \n",
    "\n",
    "**Hint:** you can use information that some consumers do not appear in the data every week. "
   ]
  },
  {
   "cell_type": "markdown",
   "id": "fa33658f",
   "metadata": {},
   "source": [
    "**Please input your answer in this cell:**\n",
    "\n",
    "\n"
   ]
  },
  {
   "cell_type": "markdown",
   "id": "04e1c7b2",
   "metadata": {},
   "source": [
    "Add such a proxi variable to your dataframe. \n"
   ]
  },
  {
   "cell_type": "code",
   "execution_count": 6,
   "id": "47e81891",
   "metadata": {
    "scrolled": false
   },
   "outputs": [
    {
     "name": "stdout",
     "output_type": "stream",
     "text": [
      "131706 transactions in original data\n"
     ]
    },
    {
     "name": "stderr",
     "output_type": "stream",
     "text": [
      "100%|███████████████████████████████████████████| 53/53 [00:03<00:00, 14.07it/s]\n",
      "100%|██████████████████████████████████| 5243/5243 [00:00<00:00, 1087519.70it/s]"
     ]
    },
    {
     "name": "stdout",
     "output_type": "stream",
     "text": [
      "188757 transactions after adding outside choices\n"
     ]
    },
    {
     "name": "stderr",
     "output_type": "stream",
     "text": [
      "\n"
     ]
    }
   ],
   "source": [
    "# Perform all necessary imports\n",
    "import sys\n",
    "from io import StringIO\n",
    "from csv import writer\n",
    "np.set_printoptions(threshold=1000) # Set display of numpy arrays to 1000 elements\n",
    "\n",
    "df['chose_other'] = 0\n",
    "df['week'] = 0\n",
    "customers = df['Customer_ID'].unique() # Make a list of Customer_IDs\n",
    "df2 = df # Copy dataframe\n",
    "week = 0\n",
    "grouped = df.groupby(pd.Grouper(key='Date', freq='W')) # Group the dataframe by week\n",
    "print(len(df), 'transactions in original data')\n",
    "for key, item in tqdm(grouped): \n",
    "    bought_this_week = item['Customer_ID'].unique() # make a list of unique items for each customer\n",
    "    chose_other = set(customers) - set(bought_this_week) # Finds everyone who didn't buy this week\n",
    "    date = item['Date'].iloc[0]\n",
    "    num_other = len(chose_other) # Number of every individual who did not buy this week\n",
    "    other_purchases = pd.DataFrame({'Date': [date for x in range(num_other)],\n",
    "                                    'Customer_ID': [id for id in chose_other],\n",
    "                                    'chose_other': [1 for x in range(num_other)],\n",
    "                                    'SKU': [\"0\" for x in range(num_other)],\n",
    "                                   'week': [week for x in range(num_other)]})\n",
    "    \n",
    "    df2 = pd.concat([df2, other_purchases.sample(frac=0.05)], ignore_index = True, axis=0) # Concatenate copied dataframe with other_purchases\n",
    "    # print(df.iloc[-5:])\n",
    "    week += 1 \n",
    " \n",
    "## FILTER THE DATA\n",
    "df2 = df2.sort_values(by='SKU') # Sort df2 by SKU\n",
    "SKUIndices = {}\n",
    "SKU = pd.unique(df2['SKU']) # Make a list of SKUs\n",
    "for i in tqdm(range(0,len(SKU))):\n",
    "    SKUIndices[SKU[i]] = i; # Assign an index to each SKU\n",
    "    \n",
    "customers = pd.unique(df['Customer_ID']) # Make a list of Customer_IDs\n",
    "numCust = len(customers) # Number of  customers\n",
    "numProd = len(SKU) # Number of SKUs\n",
    "\n",
    "print(len(df2), 'transactions after adding outside choices')"
   ]
  },
  {
   "cell_type": "code",
   "execution_count": null,
   "id": "23f5a906",
   "metadata": {},
   "outputs": [],
   "source": []
  },
  {
   "cell_type": "markdown",
   "id": "6a60b9ef",
   "metadata": {},
   "source": [
    "### Question 3\n",
    "Given that we do not have **explicit** consumer feature vectors $\\mathbf{x}^i = (x^i_1, \\cdots, x_k^i)$  in the data, discuss how you would construct such feature vectors for each consumer $i$ from the given data. Add your constructed characteristics to your dataframe. \n",
    "\n",
    "**Hint:** you can use transaction history and argue that past shopping patterns may give a good characterization for a given consumer."
   ]
  },
  {
   "cell_type": "markdown",
   "id": "7bc09a47",
   "metadata": {},
   "source": [
    "**Please input your answer in this cell:**\n",
    "\n",
    "\n",
    "\n"
   ]
  },
  {
   "cell_type": "markdown",
   "id": "fbc0d2e3",
   "metadata": {},
   "source": [
    "Add your constructed characteristics to your dataframe. "
   ]
  },
  {
   "cell_type": "code",
   "execution_count": 7,
   "id": "fed0c2a6",
   "metadata": {},
   "outputs": [
    {
     "name": "stderr",
     "output_type": "stream",
     "text": [
      "100%|████████████████████████████████████| 22625/22625 [00:50<00:00, 445.86it/s]\n"
     ]
    }
   ],
   "source": [
    "featureCount = 8 # We created 8 features + 1 more (Price) = 9 based on the data\n",
    "custFeatureArr = np.zeros((numCust,featureCount))\n",
    "\n",
    "for i in tqdm(range(numCust)):\n",
    "    # First Organize Data & Calculate Features\n",
    "    transactions = df[df.Customer_ID == customers[i]]\n",
    "    custFeatureArr[i,0] = transactions.Quantity.sum() # Total quantity bought by consumer\n",
    "    custFeatureArr[i,1] = transactions.Sales_Amount.sum() # Total $ spent by consumer\n",
    "    custFeatureArr[i,2] = custFeatureArr[i,1]/len(transactions.Date.unique()) # Average price paid by consumer\n",
    "    custFeatureArr[i,3] = len(transactions.Date.unique()) # Number of unique days on which consumer bought\n",
    "    custFeatureArr[i,4] = len(transactions.SKU.unique()) # Number of SKUs bought by consumer\n",
    "    custFeatureArr[i,5] = len(transactions.SKU_Category.unique()) # Number of different SKU categories bought by consumer\n",
    "    custFeatureArr[i,6] = len(transactions.Date.dt.isocalendar().week.unique()) # Number of weeks consumer went to grocery store\n",
    "    custFeatureArr[i,7] = 1 # Intercept term for multinomial logit regression\n",
    "\n",
    "# Standardize the feature terms   \n",
    "custFeatureArr[:,0:6] = (custFeatureArr[:,0:6] - np.mean(custFeatureArr[:,0:6],axis=0))/np.std(custFeatureArr[:,0:6],axis=0)\n",
    "\n",
    "# Prices of products are the final 9th feature\n",
    "prices = np.zeros((numProd,1))\n",
    "prices[:,0] = df2.iloc[np.unique(df2.SKU.values,return_index=True)[1]].Sales_Amount / df2.iloc[np.unique(df2.SKU.values,return_index=True)[1]].Quantity\n",
    "prices[0,0] = 0\n",
    "\n",
    "# prices[:,:] = (prices[:,:] - np.mean(prices[:,:],axis=0))/np.std(prices[:,:],axis=0)\n",
    "    "
   ]
  },
  {
   "cell_type": "markdown",
   "id": "caa79024",
   "metadata": {},
   "source": [
    "### Question 4\n",
    "Produce the utility parameters $\\beta_{0j}, \\beta_{1j},\\cdots \\beta_{kj}$ and $\\alpha_j$ for every product $j$  by estimating a multinomial \n",
    "logit model from your constructed dataset."
   ]
  },
  {
   "cell_type": "code",
   "execution_count": 8,
   "id": "f4c8924c",
   "metadata": {},
   "outputs": [
    {
     "name": "stderr",
     "output_type": "stream",
     "text": [
      "100%|███████████████████████████████| 188757/188757 [00:00<00:00, 412233.24it/s]\n"
     ]
    }
   ],
   "source": [
    "shuffledArr = np.concatenate((np.reshape(df2.Customer_ID.values,(len(df2),1)), np.reshape(df2.SKU.values,(len(df2),1))),axis=1)\n",
    "np.random.shuffle(shuffledArr)\n",
    "\n",
    "size = len(df2)\n",
    "train = int(9*len(df2)/10) # Size of training set: 90% of data\n",
    "test = len(df2) - train # Set of testing set: 10% of data\n",
    "\n",
    "IDs = shuffledArr[0:size,0]\n",
    "cats = shuffledArr[0:size,1]\n",
    "\n",
    "\n",
    "X = np.zeros((size,featureCount + 1))\n",
    "y = np.zeros(size)\n",
    "\n",
    "\n",
    "for i in tqdm(range(size)): # Iterate through df2\n",
    "    X[i,0:featureCount] = custFeatureArr[IDs[i] - 1] # Add in first 8 features to Inputs\n",
    "    X[i,featureCount] = prices[SKUIndices[cats[i]]] # Add in prices as 9th feature to Inputs\n",
    "    y[i] = SKUIndices[cats[i]] # Add in utilities to Outputs"
   ]
  },
  {
   "cell_type": "code",
   "execution_count": 9,
   "id": "e4fcc06a",
   "metadata": {},
   "outputs": [
    {
     "ename": "KeyboardInterrupt",
     "evalue": "",
     "output_type": "error",
     "traceback": [
      "\u001b[0;31m---------------------------------------------------------------------------\u001b[0m",
      "\u001b[0;31mKeyboardInterrupt\u001b[0m                         Traceback (most recent call last)",
      "\u001b[0;32m/var/folders/bv/n177p7rs6039v5q0msyhqw8c0000gn/T/ipykernel_51533/2256511802.py\u001b[0m in \u001b[0;36m<module>\u001b[0;34m\u001b[0m\n\u001b[1;32m      4\u001b[0m \u001b[0;34m\u001b[0m\u001b[0m\n\u001b[1;32m      5\u001b[0m \u001b[0mtic\u001b[0m \u001b[0;34m=\u001b[0m \u001b[0mtime\u001b[0m\u001b[0;34m.\u001b[0m\u001b[0mtime\u001b[0m\u001b[0;34m(\u001b[0m\u001b[0;34m)\u001b[0m\u001b[0;34m\u001b[0m\u001b[0;34m\u001b[0m\u001b[0m\n\u001b[0;32m----> 6\u001b[0;31m \u001b[0mmodel\u001b[0m \u001b[0;34m=\u001b[0m \u001b[0mlm\u001b[0m\u001b[0;34m.\u001b[0m\u001b[0mLogisticRegression\u001b[0m\u001b[0;34m(\u001b[0m\u001b[0;34m)\u001b[0m\u001b[0;34m.\u001b[0m\u001b[0mfit\u001b[0m\u001b[0;34m(\u001b[0m\u001b[0mX\u001b[0m\u001b[0;34m[\u001b[0m\u001b[0;36m0\u001b[0m\u001b[0;34m:\u001b[0m\u001b[0mtrain\u001b[0m\u001b[0;34m,\u001b[0m\u001b[0;34m:\u001b[0m\u001b[0;34m]\u001b[0m\u001b[0;34m,\u001b[0m \u001b[0my\u001b[0m\u001b[0;34m[\u001b[0m\u001b[0;36m0\u001b[0m\u001b[0;34m:\u001b[0m\u001b[0mtrain\u001b[0m\u001b[0;34m]\u001b[0m\u001b[0;34m)\u001b[0m\u001b[0;34m\u001b[0m\u001b[0;34m\u001b[0m\u001b[0m\n\u001b[0m\u001b[1;32m      7\u001b[0m \u001b[0mprint\u001b[0m\u001b[0;34m(\u001b[0m\u001b[0mtime\u001b[0m\u001b[0;34m.\u001b[0m\u001b[0mtime\u001b[0m\u001b[0;34m(\u001b[0m\u001b[0;34m)\u001b[0m \u001b[0;34m-\u001b[0m \u001b[0mtic\u001b[0m\u001b[0;34m)\u001b[0m\u001b[0;34m\u001b[0m\u001b[0;34m\u001b[0m\u001b[0m\n\u001b[1;32m      8\u001b[0m \u001b[0;34m\u001b[0m\u001b[0m\n",
      "\u001b[0;32m/Library/Frameworks/Python.framework/Versions/3.9/lib/python3.9/site-packages/sklearn/linear_model/_logistic.py\u001b[0m in \u001b[0;36mfit\u001b[0;34m(self, X, y, sample_weight)\u001b[0m\n\u001b[1;32m   1587\u001b[0m         \u001b[0;32melse\u001b[0m\u001b[0;34m:\u001b[0m\u001b[0;34m\u001b[0m\u001b[0;34m\u001b[0m\u001b[0m\n\u001b[1;32m   1588\u001b[0m             \u001b[0mprefer\u001b[0m \u001b[0;34m=\u001b[0m \u001b[0;34m\"processes\"\u001b[0m\u001b[0;34m\u001b[0m\u001b[0;34m\u001b[0m\u001b[0m\n\u001b[0;32m-> 1589\u001b[0;31m         fold_coefs_ = Parallel(\n\u001b[0m\u001b[1;32m   1590\u001b[0m             \u001b[0mn_jobs\u001b[0m\u001b[0;34m=\u001b[0m\u001b[0mself\u001b[0m\u001b[0;34m.\u001b[0m\u001b[0mn_jobs\u001b[0m\u001b[0;34m,\u001b[0m\u001b[0;34m\u001b[0m\u001b[0;34m\u001b[0m\u001b[0m\n\u001b[1;32m   1591\u001b[0m             \u001b[0mverbose\u001b[0m\u001b[0;34m=\u001b[0m\u001b[0mself\u001b[0m\u001b[0;34m.\u001b[0m\u001b[0mverbose\u001b[0m\u001b[0;34m,\u001b[0m\u001b[0;34m\u001b[0m\u001b[0;34m\u001b[0m\u001b[0m\n",
      "\u001b[0;32m/Library/Frameworks/Python.framework/Versions/3.9/lib/python3.9/site-packages/joblib/parallel.py\u001b[0m in \u001b[0;36m__call__\u001b[0;34m(self, iterable)\u001b[0m\n\u001b[1;32m   1041\u001b[0m             \u001b[0;31m# remaining jobs.\u001b[0m\u001b[0;34m\u001b[0m\u001b[0;34m\u001b[0m\u001b[0m\n\u001b[1;32m   1042\u001b[0m             \u001b[0mself\u001b[0m\u001b[0;34m.\u001b[0m\u001b[0m_iterating\u001b[0m \u001b[0;34m=\u001b[0m \u001b[0;32mFalse\u001b[0m\u001b[0;34m\u001b[0m\u001b[0;34m\u001b[0m\u001b[0m\n\u001b[0;32m-> 1043\u001b[0;31m             \u001b[0;32mif\u001b[0m \u001b[0mself\u001b[0m\u001b[0;34m.\u001b[0m\u001b[0mdispatch_one_batch\u001b[0m\u001b[0;34m(\u001b[0m\u001b[0miterator\u001b[0m\u001b[0;34m)\u001b[0m\u001b[0;34m:\u001b[0m\u001b[0;34m\u001b[0m\u001b[0;34m\u001b[0m\u001b[0m\n\u001b[0m\u001b[1;32m   1044\u001b[0m                 \u001b[0mself\u001b[0m\u001b[0;34m.\u001b[0m\u001b[0m_iterating\u001b[0m \u001b[0;34m=\u001b[0m \u001b[0mself\u001b[0m\u001b[0;34m.\u001b[0m\u001b[0m_original_iterator\u001b[0m \u001b[0;32mis\u001b[0m \u001b[0;32mnot\u001b[0m \u001b[0;32mNone\u001b[0m\u001b[0;34m\u001b[0m\u001b[0;34m\u001b[0m\u001b[0m\n\u001b[1;32m   1045\u001b[0m \u001b[0;34m\u001b[0m\u001b[0m\n",
      "\u001b[0;32m/Library/Frameworks/Python.framework/Versions/3.9/lib/python3.9/site-packages/joblib/parallel.py\u001b[0m in \u001b[0;36mdispatch_one_batch\u001b[0;34m(self, iterator)\u001b[0m\n\u001b[1;32m    859\u001b[0m                 \u001b[0;32mreturn\u001b[0m \u001b[0;32mFalse\u001b[0m\u001b[0;34m\u001b[0m\u001b[0;34m\u001b[0m\u001b[0m\n\u001b[1;32m    860\u001b[0m             \u001b[0;32melse\u001b[0m\u001b[0;34m:\u001b[0m\u001b[0;34m\u001b[0m\u001b[0;34m\u001b[0m\u001b[0m\n\u001b[0;32m--> 861\u001b[0;31m                 \u001b[0mself\u001b[0m\u001b[0;34m.\u001b[0m\u001b[0m_dispatch\u001b[0m\u001b[0;34m(\u001b[0m\u001b[0mtasks\u001b[0m\u001b[0;34m)\u001b[0m\u001b[0;34m\u001b[0m\u001b[0;34m\u001b[0m\u001b[0m\n\u001b[0m\u001b[1;32m    862\u001b[0m                 \u001b[0;32mreturn\u001b[0m \u001b[0;32mTrue\u001b[0m\u001b[0;34m\u001b[0m\u001b[0;34m\u001b[0m\u001b[0m\n\u001b[1;32m    863\u001b[0m \u001b[0;34m\u001b[0m\u001b[0m\n",
      "\u001b[0;32m/Library/Frameworks/Python.framework/Versions/3.9/lib/python3.9/site-packages/joblib/parallel.py\u001b[0m in \u001b[0;36m_dispatch\u001b[0;34m(self, batch)\u001b[0m\n\u001b[1;32m    777\u001b[0m         \u001b[0;32mwith\u001b[0m \u001b[0mself\u001b[0m\u001b[0;34m.\u001b[0m\u001b[0m_lock\u001b[0m\u001b[0;34m:\u001b[0m\u001b[0;34m\u001b[0m\u001b[0;34m\u001b[0m\u001b[0m\n\u001b[1;32m    778\u001b[0m             \u001b[0mjob_idx\u001b[0m \u001b[0;34m=\u001b[0m \u001b[0mlen\u001b[0m\u001b[0;34m(\u001b[0m\u001b[0mself\u001b[0m\u001b[0;34m.\u001b[0m\u001b[0m_jobs\u001b[0m\u001b[0;34m)\u001b[0m\u001b[0;34m\u001b[0m\u001b[0;34m\u001b[0m\u001b[0m\n\u001b[0;32m--> 779\u001b[0;31m             \u001b[0mjob\u001b[0m \u001b[0;34m=\u001b[0m \u001b[0mself\u001b[0m\u001b[0;34m.\u001b[0m\u001b[0m_backend\u001b[0m\u001b[0;34m.\u001b[0m\u001b[0mapply_async\u001b[0m\u001b[0;34m(\u001b[0m\u001b[0mbatch\u001b[0m\u001b[0;34m,\u001b[0m \u001b[0mcallback\u001b[0m\u001b[0;34m=\u001b[0m\u001b[0mcb\u001b[0m\u001b[0;34m)\u001b[0m\u001b[0;34m\u001b[0m\u001b[0;34m\u001b[0m\u001b[0m\n\u001b[0m\u001b[1;32m    780\u001b[0m             \u001b[0;31m# A job can complete so quickly than its callback is\u001b[0m\u001b[0;34m\u001b[0m\u001b[0;34m\u001b[0m\u001b[0m\n\u001b[1;32m    781\u001b[0m             \u001b[0;31m# called before we get here, causing self._jobs to\u001b[0m\u001b[0;34m\u001b[0m\u001b[0;34m\u001b[0m\u001b[0m\n",
      "\u001b[0;32m/Library/Frameworks/Python.framework/Versions/3.9/lib/python3.9/site-packages/joblib/_parallel_backends.py\u001b[0m in \u001b[0;36mapply_async\u001b[0;34m(self, func, callback)\u001b[0m\n\u001b[1;32m    206\u001b[0m     \u001b[0;32mdef\u001b[0m \u001b[0mapply_async\u001b[0m\u001b[0;34m(\u001b[0m\u001b[0mself\u001b[0m\u001b[0;34m,\u001b[0m \u001b[0mfunc\u001b[0m\u001b[0;34m,\u001b[0m \u001b[0mcallback\u001b[0m\u001b[0;34m=\u001b[0m\u001b[0;32mNone\u001b[0m\u001b[0;34m)\u001b[0m\u001b[0;34m:\u001b[0m\u001b[0;34m\u001b[0m\u001b[0;34m\u001b[0m\u001b[0m\n\u001b[1;32m    207\u001b[0m         \u001b[0;34m\"\"\"Schedule a func to be run\"\"\"\u001b[0m\u001b[0;34m\u001b[0m\u001b[0;34m\u001b[0m\u001b[0m\n\u001b[0;32m--> 208\u001b[0;31m         \u001b[0mresult\u001b[0m \u001b[0;34m=\u001b[0m \u001b[0mImmediateResult\u001b[0m\u001b[0;34m(\u001b[0m\u001b[0mfunc\u001b[0m\u001b[0;34m)\u001b[0m\u001b[0;34m\u001b[0m\u001b[0;34m\u001b[0m\u001b[0m\n\u001b[0m\u001b[1;32m    209\u001b[0m         \u001b[0;32mif\u001b[0m \u001b[0mcallback\u001b[0m\u001b[0;34m:\u001b[0m\u001b[0;34m\u001b[0m\u001b[0;34m\u001b[0m\u001b[0m\n\u001b[1;32m    210\u001b[0m             \u001b[0mcallback\u001b[0m\u001b[0;34m(\u001b[0m\u001b[0mresult\u001b[0m\u001b[0;34m)\u001b[0m\u001b[0;34m\u001b[0m\u001b[0;34m\u001b[0m\u001b[0m\n",
      "\u001b[0;32m/Library/Frameworks/Python.framework/Versions/3.9/lib/python3.9/site-packages/joblib/_parallel_backends.py\u001b[0m in \u001b[0;36m__init__\u001b[0;34m(self, batch)\u001b[0m\n\u001b[1;32m    570\u001b[0m         \u001b[0;31m# Don't delay the application, to avoid keeping the input\u001b[0m\u001b[0;34m\u001b[0m\u001b[0;34m\u001b[0m\u001b[0m\n\u001b[1;32m    571\u001b[0m         \u001b[0;31m# arguments in memory\u001b[0m\u001b[0;34m\u001b[0m\u001b[0;34m\u001b[0m\u001b[0m\n\u001b[0;32m--> 572\u001b[0;31m         \u001b[0mself\u001b[0m\u001b[0;34m.\u001b[0m\u001b[0mresults\u001b[0m \u001b[0;34m=\u001b[0m \u001b[0mbatch\u001b[0m\u001b[0;34m(\u001b[0m\u001b[0;34m)\u001b[0m\u001b[0;34m\u001b[0m\u001b[0;34m\u001b[0m\u001b[0m\n\u001b[0m\u001b[1;32m    573\u001b[0m \u001b[0;34m\u001b[0m\u001b[0m\n\u001b[1;32m    574\u001b[0m     \u001b[0;32mdef\u001b[0m \u001b[0mget\u001b[0m\u001b[0;34m(\u001b[0m\u001b[0mself\u001b[0m\u001b[0;34m)\u001b[0m\u001b[0;34m:\u001b[0m\u001b[0;34m\u001b[0m\u001b[0;34m\u001b[0m\u001b[0m\n",
      "\u001b[0;32m/Library/Frameworks/Python.framework/Versions/3.9/lib/python3.9/site-packages/joblib/parallel.py\u001b[0m in \u001b[0;36m__call__\u001b[0;34m(self)\u001b[0m\n\u001b[1;32m    260\u001b[0m         \u001b[0;31m# change the default number of processes to -1\u001b[0m\u001b[0;34m\u001b[0m\u001b[0;34m\u001b[0m\u001b[0m\n\u001b[1;32m    261\u001b[0m         \u001b[0;32mwith\u001b[0m \u001b[0mparallel_backend\u001b[0m\u001b[0;34m(\u001b[0m\u001b[0mself\u001b[0m\u001b[0;34m.\u001b[0m\u001b[0m_backend\u001b[0m\u001b[0;34m,\u001b[0m \u001b[0mn_jobs\u001b[0m\u001b[0;34m=\u001b[0m\u001b[0mself\u001b[0m\u001b[0;34m.\u001b[0m\u001b[0m_n_jobs\u001b[0m\u001b[0;34m)\u001b[0m\u001b[0;34m:\u001b[0m\u001b[0;34m\u001b[0m\u001b[0;34m\u001b[0m\u001b[0m\n\u001b[0;32m--> 262\u001b[0;31m             return [func(*args, **kwargs)\n\u001b[0m\u001b[1;32m    263\u001b[0m                     for func, args, kwargs in self.items]\n\u001b[1;32m    264\u001b[0m \u001b[0;34m\u001b[0m\u001b[0m\n",
      "\u001b[0;32m/Library/Frameworks/Python.framework/Versions/3.9/lib/python3.9/site-packages/joblib/parallel.py\u001b[0m in \u001b[0;36m<listcomp>\u001b[0;34m(.0)\u001b[0m\n\u001b[1;32m    260\u001b[0m         \u001b[0;31m# change the default number of processes to -1\u001b[0m\u001b[0;34m\u001b[0m\u001b[0;34m\u001b[0m\u001b[0m\n\u001b[1;32m    261\u001b[0m         \u001b[0;32mwith\u001b[0m \u001b[0mparallel_backend\u001b[0m\u001b[0;34m(\u001b[0m\u001b[0mself\u001b[0m\u001b[0;34m.\u001b[0m\u001b[0m_backend\u001b[0m\u001b[0;34m,\u001b[0m \u001b[0mn_jobs\u001b[0m\u001b[0;34m=\u001b[0m\u001b[0mself\u001b[0m\u001b[0;34m.\u001b[0m\u001b[0m_n_jobs\u001b[0m\u001b[0;34m)\u001b[0m\u001b[0;34m:\u001b[0m\u001b[0;34m\u001b[0m\u001b[0;34m\u001b[0m\u001b[0m\n\u001b[0;32m--> 262\u001b[0;31m             return [func(*args, **kwargs)\n\u001b[0m\u001b[1;32m    263\u001b[0m                     for func, args, kwargs in self.items]\n\u001b[1;32m    264\u001b[0m \u001b[0;34m\u001b[0m\u001b[0m\n",
      "\u001b[0;32m/Library/Frameworks/Python.framework/Versions/3.9/lib/python3.9/site-packages/sklearn/utils/fixes.py\u001b[0m in \u001b[0;36m__call__\u001b[0;34m(self, *args, **kwargs)\u001b[0m\n\u001b[1;32m    214\u001b[0m     \u001b[0;32mdef\u001b[0m \u001b[0m__call__\u001b[0m\u001b[0;34m(\u001b[0m\u001b[0mself\u001b[0m\u001b[0;34m,\u001b[0m \u001b[0;34m*\u001b[0m\u001b[0margs\u001b[0m\u001b[0;34m,\u001b[0m \u001b[0;34m**\u001b[0m\u001b[0mkwargs\u001b[0m\u001b[0;34m)\u001b[0m\u001b[0;34m:\u001b[0m\u001b[0;34m\u001b[0m\u001b[0;34m\u001b[0m\u001b[0m\n\u001b[1;32m    215\u001b[0m         \u001b[0;32mwith\u001b[0m \u001b[0mconfig_context\u001b[0m\u001b[0;34m(\u001b[0m\u001b[0;34m**\u001b[0m\u001b[0mself\u001b[0m\u001b[0;34m.\u001b[0m\u001b[0mconfig\u001b[0m\u001b[0;34m)\u001b[0m\u001b[0;34m:\u001b[0m\u001b[0;34m\u001b[0m\u001b[0;34m\u001b[0m\u001b[0m\n\u001b[0;32m--> 216\u001b[0;31m             \u001b[0;32mreturn\u001b[0m \u001b[0mself\u001b[0m\u001b[0;34m.\u001b[0m\u001b[0mfunction\u001b[0m\u001b[0;34m(\u001b[0m\u001b[0;34m*\u001b[0m\u001b[0margs\u001b[0m\u001b[0;34m,\u001b[0m \u001b[0;34m**\u001b[0m\u001b[0mkwargs\u001b[0m\u001b[0;34m)\u001b[0m\u001b[0;34m\u001b[0m\u001b[0;34m\u001b[0m\u001b[0m\n\u001b[0m\u001b[1;32m    217\u001b[0m \u001b[0;34m\u001b[0m\u001b[0m\n\u001b[1;32m    218\u001b[0m \u001b[0;34m\u001b[0m\u001b[0m\n",
      "\u001b[0;32m/Library/Frameworks/Python.framework/Versions/3.9/lib/python3.9/site-packages/sklearn/linear_model/_logistic.py\u001b[0m in \u001b[0;36m_logistic_regression_path\u001b[0;34m(X, y, pos_class, Cs, fit_intercept, max_iter, tol, verbose, solver, coef, class_weight, dual, penalty, intercept_scaling, multi_class, random_state, check_input, max_squared_sum, sample_weight, l1_ratio)\u001b[0m\n\u001b[1;32m    804\u001b[0m                 \u001b[0mnp\u001b[0m\u001b[0;34m.\u001b[0m\u001b[0msearchsorted\u001b[0m\u001b[0;34m(\u001b[0m\u001b[0mnp\u001b[0m\u001b[0;34m.\u001b[0m\u001b[0marray\u001b[0m\u001b[0;34m(\u001b[0m\u001b[0;34m[\u001b[0m\u001b[0;36m0\u001b[0m\u001b[0;34m,\u001b[0m \u001b[0;36m1\u001b[0m\u001b[0;34m,\u001b[0m \u001b[0;36m2\u001b[0m\u001b[0;34m,\u001b[0m \u001b[0;36m3\u001b[0m\u001b[0;34m]\u001b[0m\u001b[0;34m)\u001b[0m\u001b[0;34m,\u001b[0m \u001b[0mverbose\u001b[0m\u001b[0;34m)\u001b[0m\u001b[0;34m\u001b[0m\u001b[0;34m\u001b[0m\u001b[0m\n\u001b[1;32m    805\u001b[0m             ]\n\u001b[0;32m--> 806\u001b[0;31m             opt_res = optimize.minimize(\n\u001b[0m\u001b[1;32m    807\u001b[0m                 \u001b[0mfunc\u001b[0m\u001b[0;34m,\u001b[0m\u001b[0;34m\u001b[0m\u001b[0;34m\u001b[0m\u001b[0m\n\u001b[1;32m    808\u001b[0m                 \u001b[0mw0\u001b[0m\u001b[0;34m,\u001b[0m\u001b[0;34m\u001b[0m\u001b[0;34m\u001b[0m\u001b[0m\n",
      "\u001b[0;32m/Library/Frameworks/Python.framework/Versions/3.9/lib/python3.9/site-packages/scipy/optimize/_minimize.py\u001b[0m in \u001b[0;36mminimize\u001b[0;34m(fun, x0, args, method, jac, hess, hessp, bounds, constraints, tol, callback, options)\u001b[0m\n\u001b[1;32m    679\u001b[0m                                  **options)\n\u001b[1;32m    680\u001b[0m     \u001b[0;32melif\u001b[0m \u001b[0mmeth\u001b[0m \u001b[0;34m==\u001b[0m \u001b[0;34m'l-bfgs-b'\u001b[0m\u001b[0;34m:\u001b[0m\u001b[0;34m\u001b[0m\u001b[0;34m\u001b[0m\u001b[0m\n\u001b[0;32m--> 681\u001b[0;31m         res = _minimize_lbfgsb(fun, x0, args, jac, bounds,\n\u001b[0m\u001b[1;32m    682\u001b[0m                                callback=callback, **options)\n\u001b[1;32m    683\u001b[0m     \u001b[0;32melif\u001b[0m \u001b[0mmeth\u001b[0m \u001b[0;34m==\u001b[0m \u001b[0;34m'tnc'\u001b[0m\u001b[0;34m:\u001b[0m\u001b[0;34m\u001b[0m\u001b[0;34m\u001b[0m\u001b[0m\n",
      "\u001b[0;32m/Library/Frameworks/Python.framework/Versions/3.9/lib/python3.9/site-packages/scipy/optimize/_lbfgsb_py.py\u001b[0m in \u001b[0;36m_minimize_lbfgsb\u001b[0;34m(fun, x0, args, jac, bounds, disp, maxcor, ftol, gtol, eps, maxfun, maxiter, iprint, callback, maxls, finite_diff_rel_step, **unknown_options)\u001b[0m\n\u001b[1;32m    306\u001b[0m             \u001b[0miprint\u001b[0m \u001b[0;34m=\u001b[0m \u001b[0mdisp\u001b[0m\u001b[0;34m\u001b[0m\u001b[0;34m\u001b[0m\u001b[0m\n\u001b[1;32m    307\u001b[0m \u001b[0;34m\u001b[0m\u001b[0m\n\u001b[0;32m--> 308\u001b[0;31m     sf = _prepare_scalar_function(fun, x0, jac=jac, args=args, epsilon=eps,\n\u001b[0m\u001b[1;32m    309\u001b[0m                                   \u001b[0mbounds\u001b[0m\u001b[0;34m=\u001b[0m\u001b[0mnew_bounds\u001b[0m\u001b[0;34m,\u001b[0m\u001b[0;34m\u001b[0m\u001b[0;34m\u001b[0m\u001b[0m\n\u001b[1;32m    310\u001b[0m                                   finite_diff_rel_step=finite_diff_rel_step)\n",
      "\u001b[0;32m/Library/Frameworks/Python.framework/Versions/3.9/lib/python3.9/site-packages/scipy/optimize/_optimize.py\u001b[0m in \u001b[0;36m_prepare_scalar_function\u001b[0;34m(fun, x0, jac, args, bounds, epsilon, finite_diff_rel_step, hess)\u001b[0m\n\u001b[1;32m    261\u001b[0m     \u001b[0;31m# ScalarFunction caches. Reuse of fun(x) during grad\u001b[0m\u001b[0;34m\u001b[0m\u001b[0;34m\u001b[0m\u001b[0m\n\u001b[1;32m    262\u001b[0m     \u001b[0;31m# calculation reduces overall function evaluations.\u001b[0m\u001b[0;34m\u001b[0m\u001b[0;34m\u001b[0m\u001b[0m\n\u001b[0;32m--> 263\u001b[0;31m     sf = ScalarFunction(fun, x0, args, grad, hess,\n\u001b[0m\u001b[1;32m    264\u001b[0m                         finite_diff_rel_step, bounds, epsilon=epsilon)\n\u001b[1;32m    265\u001b[0m \u001b[0;34m\u001b[0m\u001b[0m\n",
      "\u001b[0;32m/Library/Frameworks/Python.framework/Versions/3.9/lib/python3.9/site-packages/scipy/optimize/_differentiable_functions.py\u001b[0m in \u001b[0;36m__init__\u001b[0;34m(self, fun, x0, args, grad, hess, finite_diff_rel_step, finite_diff_bounds, epsilon)\u001b[0m\n\u001b[1;32m    156\u001b[0m \u001b[0;34m\u001b[0m\u001b[0m\n\u001b[1;32m    157\u001b[0m         \u001b[0mself\u001b[0m\u001b[0;34m.\u001b[0m\u001b[0m_update_fun_impl\u001b[0m \u001b[0;34m=\u001b[0m \u001b[0mupdate_fun\u001b[0m\u001b[0;34m\u001b[0m\u001b[0;34m\u001b[0m\u001b[0m\n\u001b[0;32m--> 158\u001b[0;31m         \u001b[0mself\u001b[0m\u001b[0;34m.\u001b[0m\u001b[0m_update_fun\u001b[0m\u001b[0;34m(\u001b[0m\u001b[0;34m)\u001b[0m\u001b[0;34m\u001b[0m\u001b[0;34m\u001b[0m\u001b[0m\n\u001b[0m\u001b[1;32m    159\u001b[0m \u001b[0;34m\u001b[0m\u001b[0m\n\u001b[1;32m    160\u001b[0m         \u001b[0;31m# Gradient evaluation\u001b[0m\u001b[0;34m\u001b[0m\u001b[0;34m\u001b[0m\u001b[0m\n",
      "\u001b[0;32m/Library/Frameworks/Python.framework/Versions/3.9/lib/python3.9/site-packages/scipy/optimize/_differentiable_functions.py\u001b[0m in \u001b[0;36m_update_fun\u001b[0;34m(self)\u001b[0m\n\u001b[1;32m    249\u001b[0m     \u001b[0;32mdef\u001b[0m \u001b[0m_update_fun\u001b[0m\u001b[0;34m(\u001b[0m\u001b[0mself\u001b[0m\u001b[0;34m)\u001b[0m\u001b[0;34m:\u001b[0m\u001b[0;34m\u001b[0m\u001b[0;34m\u001b[0m\u001b[0m\n\u001b[1;32m    250\u001b[0m         \u001b[0;32mif\u001b[0m \u001b[0;32mnot\u001b[0m \u001b[0mself\u001b[0m\u001b[0;34m.\u001b[0m\u001b[0mf_updated\u001b[0m\u001b[0;34m:\u001b[0m\u001b[0;34m\u001b[0m\u001b[0;34m\u001b[0m\u001b[0m\n\u001b[0;32m--> 251\u001b[0;31m             \u001b[0mself\u001b[0m\u001b[0;34m.\u001b[0m\u001b[0m_update_fun_impl\u001b[0m\u001b[0;34m(\u001b[0m\u001b[0;34m)\u001b[0m\u001b[0;34m\u001b[0m\u001b[0;34m\u001b[0m\u001b[0m\n\u001b[0m\u001b[1;32m    252\u001b[0m             \u001b[0mself\u001b[0m\u001b[0;34m.\u001b[0m\u001b[0mf_updated\u001b[0m \u001b[0;34m=\u001b[0m \u001b[0;32mTrue\u001b[0m\u001b[0;34m\u001b[0m\u001b[0;34m\u001b[0m\u001b[0m\n\u001b[1;32m    253\u001b[0m \u001b[0;34m\u001b[0m\u001b[0m\n",
      "\u001b[0;32m/Library/Frameworks/Python.framework/Versions/3.9/lib/python3.9/site-packages/scipy/optimize/_differentiable_functions.py\u001b[0m in \u001b[0;36mupdate_fun\u001b[0;34m()\u001b[0m\n\u001b[1;32m    153\u001b[0m \u001b[0;34m\u001b[0m\u001b[0m\n\u001b[1;32m    154\u001b[0m         \u001b[0;32mdef\u001b[0m \u001b[0mupdate_fun\u001b[0m\u001b[0;34m(\u001b[0m\u001b[0;34m)\u001b[0m\u001b[0;34m:\u001b[0m\u001b[0;34m\u001b[0m\u001b[0;34m\u001b[0m\u001b[0m\n\u001b[0;32m--> 155\u001b[0;31m             \u001b[0mself\u001b[0m\u001b[0;34m.\u001b[0m\u001b[0mf\u001b[0m \u001b[0;34m=\u001b[0m \u001b[0mfun_wrapped\u001b[0m\u001b[0;34m(\u001b[0m\u001b[0mself\u001b[0m\u001b[0;34m.\u001b[0m\u001b[0mx\u001b[0m\u001b[0;34m)\u001b[0m\u001b[0;34m\u001b[0m\u001b[0;34m\u001b[0m\u001b[0m\n\u001b[0m\u001b[1;32m    156\u001b[0m \u001b[0;34m\u001b[0m\u001b[0m\n\u001b[1;32m    157\u001b[0m         \u001b[0mself\u001b[0m\u001b[0;34m.\u001b[0m\u001b[0m_update_fun_impl\u001b[0m \u001b[0;34m=\u001b[0m \u001b[0mupdate_fun\u001b[0m\u001b[0;34m\u001b[0m\u001b[0;34m\u001b[0m\u001b[0m\n",
      "\u001b[0;32m/Library/Frameworks/Python.framework/Versions/3.9/lib/python3.9/site-packages/scipy/optimize/_differentiable_functions.py\u001b[0m in \u001b[0;36mfun_wrapped\u001b[0;34m(x)\u001b[0m\n\u001b[1;32m    135\u001b[0m             \u001b[0;31m# Overwriting results in undefined behaviour because\u001b[0m\u001b[0;34m\u001b[0m\u001b[0;34m\u001b[0m\u001b[0m\n\u001b[1;32m    136\u001b[0m             \u001b[0;31m# fun(self.x) will change self.x, with the two no longer linked.\u001b[0m\u001b[0;34m\u001b[0m\u001b[0;34m\u001b[0m\u001b[0m\n\u001b[0;32m--> 137\u001b[0;31m             \u001b[0mfx\u001b[0m \u001b[0;34m=\u001b[0m \u001b[0mfun\u001b[0m\u001b[0;34m(\u001b[0m\u001b[0mnp\u001b[0m\u001b[0;34m.\u001b[0m\u001b[0mcopy\u001b[0m\u001b[0;34m(\u001b[0m\u001b[0mx\u001b[0m\u001b[0;34m)\u001b[0m\u001b[0;34m,\u001b[0m \u001b[0;34m*\u001b[0m\u001b[0margs\u001b[0m\u001b[0;34m)\u001b[0m\u001b[0;34m\u001b[0m\u001b[0;34m\u001b[0m\u001b[0m\n\u001b[0m\u001b[1;32m    138\u001b[0m             \u001b[0;31m# Make sure the function returns a true scalar\u001b[0m\u001b[0;34m\u001b[0m\u001b[0;34m\u001b[0m\u001b[0m\n\u001b[1;32m    139\u001b[0m             \u001b[0;32mif\u001b[0m \u001b[0;32mnot\u001b[0m \u001b[0mnp\u001b[0m\u001b[0;34m.\u001b[0m\u001b[0misscalar\u001b[0m\u001b[0;34m(\u001b[0m\u001b[0mfx\u001b[0m\u001b[0;34m)\u001b[0m\u001b[0;34m:\u001b[0m\u001b[0;34m\u001b[0m\u001b[0;34m\u001b[0m\u001b[0m\n",
      "\u001b[0;32m/Library/Frameworks/Python.framework/Versions/3.9/lib/python3.9/site-packages/scipy/optimize/_optimize.py\u001b[0m in \u001b[0;36m__call__\u001b[0;34m(self, x, *args)\u001b[0m\n\u001b[1;32m     74\u001b[0m     \u001b[0;32mdef\u001b[0m \u001b[0m__call__\u001b[0m\u001b[0;34m(\u001b[0m\u001b[0mself\u001b[0m\u001b[0;34m,\u001b[0m \u001b[0mx\u001b[0m\u001b[0;34m,\u001b[0m \u001b[0;34m*\u001b[0m\u001b[0margs\u001b[0m\u001b[0;34m)\u001b[0m\u001b[0;34m:\u001b[0m\u001b[0;34m\u001b[0m\u001b[0;34m\u001b[0m\u001b[0m\n\u001b[1;32m     75\u001b[0m         \u001b[0;34m\"\"\" returns the the function value \"\"\"\u001b[0m\u001b[0;34m\u001b[0m\u001b[0;34m\u001b[0m\u001b[0m\n\u001b[0;32m---> 76\u001b[0;31m         \u001b[0mself\u001b[0m\u001b[0;34m.\u001b[0m\u001b[0m_compute_if_needed\u001b[0m\u001b[0;34m(\u001b[0m\u001b[0mx\u001b[0m\u001b[0;34m,\u001b[0m \u001b[0;34m*\u001b[0m\u001b[0margs\u001b[0m\u001b[0;34m)\u001b[0m\u001b[0;34m\u001b[0m\u001b[0;34m\u001b[0m\u001b[0m\n\u001b[0m\u001b[1;32m     77\u001b[0m         \u001b[0;32mreturn\u001b[0m \u001b[0mself\u001b[0m\u001b[0;34m.\u001b[0m\u001b[0m_value\u001b[0m\u001b[0;34m\u001b[0m\u001b[0;34m\u001b[0m\u001b[0m\n\u001b[1;32m     78\u001b[0m \u001b[0;34m\u001b[0m\u001b[0m\n",
      "\u001b[0;32m/Library/Frameworks/Python.framework/Versions/3.9/lib/python3.9/site-packages/scipy/optimize/_optimize.py\u001b[0m in \u001b[0;36m_compute_if_needed\u001b[0;34m(self, x, *args)\u001b[0m\n\u001b[1;32m     68\u001b[0m         \u001b[0;32mif\u001b[0m \u001b[0;32mnot\u001b[0m \u001b[0mnp\u001b[0m\u001b[0;34m.\u001b[0m\u001b[0mall\u001b[0m\u001b[0;34m(\u001b[0m\u001b[0mx\u001b[0m \u001b[0;34m==\u001b[0m \u001b[0mself\u001b[0m\u001b[0;34m.\u001b[0m\u001b[0mx\u001b[0m\u001b[0;34m)\u001b[0m \u001b[0;32mor\u001b[0m \u001b[0mself\u001b[0m\u001b[0;34m.\u001b[0m\u001b[0m_value\u001b[0m \u001b[0;32mis\u001b[0m \u001b[0;32mNone\u001b[0m \u001b[0;32mor\u001b[0m \u001b[0mself\u001b[0m\u001b[0;34m.\u001b[0m\u001b[0mjac\u001b[0m \u001b[0;32mis\u001b[0m \u001b[0;32mNone\u001b[0m\u001b[0;34m:\u001b[0m\u001b[0;34m\u001b[0m\u001b[0;34m\u001b[0m\u001b[0m\n\u001b[1;32m     69\u001b[0m             \u001b[0mself\u001b[0m\u001b[0;34m.\u001b[0m\u001b[0mx\u001b[0m \u001b[0;34m=\u001b[0m \u001b[0mnp\u001b[0m\u001b[0;34m.\u001b[0m\u001b[0masarray\u001b[0m\u001b[0;34m(\u001b[0m\u001b[0mx\u001b[0m\u001b[0;34m)\u001b[0m\u001b[0;34m.\u001b[0m\u001b[0mcopy\u001b[0m\u001b[0;34m(\u001b[0m\u001b[0;34m)\u001b[0m\u001b[0;34m\u001b[0m\u001b[0;34m\u001b[0m\u001b[0m\n\u001b[0;32m---> 70\u001b[0;31m             \u001b[0mfg\u001b[0m \u001b[0;34m=\u001b[0m \u001b[0mself\u001b[0m\u001b[0;34m.\u001b[0m\u001b[0mfun\u001b[0m\u001b[0;34m(\u001b[0m\u001b[0mx\u001b[0m\u001b[0;34m,\u001b[0m \u001b[0;34m*\u001b[0m\u001b[0margs\u001b[0m\u001b[0;34m)\u001b[0m\u001b[0;34m\u001b[0m\u001b[0;34m\u001b[0m\u001b[0m\n\u001b[0m\u001b[1;32m     71\u001b[0m             \u001b[0mself\u001b[0m\u001b[0;34m.\u001b[0m\u001b[0mjac\u001b[0m \u001b[0;34m=\u001b[0m \u001b[0mfg\u001b[0m\u001b[0;34m[\u001b[0m\u001b[0;36m1\u001b[0m\u001b[0;34m]\u001b[0m\u001b[0;34m\u001b[0m\u001b[0;34m\u001b[0m\u001b[0m\n\u001b[1;32m     72\u001b[0m             \u001b[0mself\u001b[0m\u001b[0;34m.\u001b[0m\u001b[0m_value\u001b[0m \u001b[0;34m=\u001b[0m \u001b[0mfg\u001b[0m\u001b[0;34m[\u001b[0m\u001b[0;36m0\u001b[0m\u001b[0;34m]\u001b[0m\u001b[0;34m\u001b[0m\u001b[0;34m\u001b[0m\u001b[0m\n",
      "\u001b[0;32m/Library/Frameworks/Python.framework/Versions/3.9/lib/python3.9/site-packages/sklearn/linear_model/_logistic.py\u001b[0m in \u001b[0;36mfunc\u001b[0;34m(x, *args)\u001b[0m\n\u001b[1;32m    772\u001b[0m \u001b[0;34m\u001b[0m\u001b[0m\n\u001b[1;32m    773\u001b[0m             \u001b[0;32mdef\u001b[0m \u001b[0mfunc\u001b[0m\u001b[0;34m(\u001b[0m\u001b[0mx\u001b[0m\u001b[0;34m,\u001b[0m \u001b[0;34m*\u001b[0m\u001b[0margs\u001b[0m\u001b[0;34m)\u001b[0m\u001b[0;34m:\u001b[0m\u001b[0;34m\u001b[0m\u001b[0;34m\u001b[0m\u001b[0m\n\u001b[0;32m--> 774\u001b[0;31m                 \u001b[0;32mreturn\u001b[0m \u001b[0m_multinomial_loss_grad\u001b[0m\u001b[0;34m(\u001b[0m\u001b[0mx\u001b[0m\u001b[0;34m,\u001b[0m \u001b[0;34m*\u001b[0m\u001b[0margs\u001b[0m\u001b[0;34m)\u001b[0m\u001b[0;34m[\u001b[0m\u001b[0;36m0\u001b[0m\u001b[0;34m:\u001b[0m\u001b[0;36m2\u001b[0m\u001b[0;34m]\u001b[0m\u001b[0;34m\u001b[0m\u001b[0;34m\u001b[0m\u001b[0m\n\u001b[0m\u001b[1;32m    775\u001b[0m \u001b[0;34m\u001b[0m\u001b[0m\n\u001b[1;32m    776\u001b[0m         \u001b[0;32melif\u001b[0m \u001b[0msolver\u001b[0m \u001b[0;34m==\u001b[0m \u001b[0;34m\"newton-cg\"\u001b[0m\u001b[0;34m:\u001b[0m\u001b[0;34m\u001b[0m\u001b[0;34m\u001b[0m\u001b[0m\n",
      "\u001b[0;32m/Library/Frameworks/Python.framework/Versions/3.9/lib/python3.9/site-packages/sklearn/linear_model/_logistic.py\u001b[0m in \u001b[0;36m_multinomial_loss_grad\u001b[0;34m(w, X, Y, alpha, sample_weight)\u001b[0m\n\u001b[1;32m    346\u001b[0m     \u001b[0mfit_intercept\u001b[0m \u001b[0;34m=\u001b[0m \u001b[0mw\u001b[0m\u001b[0;34m.\u001b[0m\u001b[0msize\u001b[0m \u001b[0;34m==\u001b[0m \u001b[0mn_classes\u001b[0m \u001b[0;34m*\u001b[0m \u001b[0;34m(\u001b[0m\u001b[0mn_features\u001b[0m \u001b[0;34m+\u001b[0m \u001b[0;36m1\u001b[0m\u001b[0;34m)\u001b[0m\u001b[0;34m\u001b[0m\u001b[0;34m\u001b[0m\u001b[0m\n\u001b[1;32m    347\u001b[0m     \u001b[0mgrad\u001b[0m \u001b[0;34m=\u001b[0m \u001b[0mnp\u001b[0m\u001b[0;34m.\u001b[0m\u001b[0mzeros\u001b[0m\u001b[0;34m(\u001b[0m\u001b[0;34m(\u001b[0m\u001b[0mn_classes\u001b[0m\u001b[0;34m,\u001b[0m \u001b[0mn_features\u001b[0m \u001b[0;34m+\u001b[0m \u001b[0mbool\u001b[0m\u001b[0;34m(\u001b[0m\u001b[0mfit_intercept\u001b[0m\u001b[0;34m)\u001b[0m\u001b[0;34m)\u001b[0m\u001b[0;34m,\u001b[0m \u001b[0mdtype\u001b[0m\u001b[0;34m=\u001b[0m\u001b[0mX\u001b[0m\u001b[0;34m.\u001b[0m\u001b[0mdtype\u001b[0m\u001b[0;34m)\u001b[0m\u001b[0;34m\u001b[0m\u001b[0;34m\u001b[0m\u001b[0m\n\u001b[0;32m--> 348\u001b[0;31m     \u001b[0mloss\u001b[0m\u001b[0;34m,\u001b[0m \u001b[0mp\u001b[0m\u001b[0;34m,\u001b[0m \u001b[0mw\u001b[0m \u001b[0;34m=\u001b[0m \u001b[0m_multinomial_loss\u001b[0m\u001b[0;34m(\u001b[0m\u001b[0mw\u001b[0m\u001b[0;34m,\u001b[0m \u001b[0mX\u001b[0m\u001b[0;34m,\u001b[0m \u001b[0mY\u001b[0m\u001b[0;34m,\u001b[0m \u001b[0malpha\u001b[0m\u001b[0;34m,\u001b[0m \u001b[0msample_weight\u001b[0m\u001b[0;34m)\u001b[0m\u001b[0;34m\u001b[0m\u001b[0;34m\u001b[0m\u001b[0m\n\u001b[0m\u001b[1;32m    349\u001b[0m     \u001b[0msample_weight\u001b[0m \u001b[0;34m=\u001b[0m \u001b[0msample_weight\u001b[0m\u001b[0;34m[\u001b[0m\u001b[0;34m:\u001b[0m\u001b[0;34m,\u001b[0m \u001b[0mnp\u001b[0m\u001b[0;34m.\u001b[0m\u001b[0mnewaxis\u001b[0m\u001b[0;34m]\u001b[0m\u001b[0;34m\u001b[0m\u001b[0;34m\u001b[0m\u001b[0m\n\u001b[1;32m    350\u001b[0m     \u001b[0mdiff\u001b[0m \u001b[0;34m=\u001b[0m \u001b[0msample_weight\u001b[0m \u001b[0;34m*\u001b[0m \u001b[0;34m(\u001b[0m\u001b[0mp\u001b[0m \u001b[0;34m-\u001b[0m \u001b[0mY\u001b[0m\u001b[0;34m)\u001b[0m\u001b[0;34m\u001b[0m\u001b[0;34m\u001b[0m\u001b[0m\n",
      "\u001b[0;32m/Library/Frameworks/Python.framework/Versions/3.9/lib/python3.9/site-packages/sklearn/linear_model/_logistic.py\u001b[0m in \u001b[0;36m_multinomial_loss\u001b[0;34m(w, X, Y, alpha, sample_weight)\u001b[0m\n\u001b[1;32m    295\u001b[0m     \u001b[0;32melse\u001b[0m\u001b[0;34m:\u001b[0m\u001b[0;34m\u001b[0m\u001b[0;34m\u001b[0m\u001b[0m\n\u001b[1;32m    296\u001b[0m         \u001b[0mintercept\u001b[0m \u001b[0;34m=\u001b[0m \u001b[0;36m0\u001b[0m\u001b[0;34m\u001b[0m\u001b[0;34m\u001b[0m\u001b[0m\n\u001b[0;32m--> 297\u001b[0;31m     \u001b[0mp\u001b[0m \u001b[0;34m=\u001b[0m \u001b[0msafe_sparse_dot\u001b[0m\u001b[0;34m(\u001b[0m\u001b[0mX\u001b[0m\u001b[0;34m,\u001b[0m \u001b[0mw\u001b[0m\u001b[0;34m.\u001b[0m\u001b[0mT\u001b[0m\u001b[0;34m)\u001b[0m\u001b[0;34m\u001b[0m\u001b[0;34m\u001b[0m\u001b[0m\n\u001b[0m\u001b[1;32m    298\u001b[0m     \u001b[0mp\u001b[0m \u001b[0;34m+=\u001b[0m \u001b[0mintercept\u001b[0m\u001b[0;34m\u001b[0m\u001b[0;34m\u001b[0m\u001b[0m\n\u001b[1;32m    299\u001b[0m     \u001b[0mp\u001b[0m \u001b[0;34m-=\u001b[0m \u001b[0mlogsumexp\u001b[0m\u001b[0;34m(\u001b[0m\u001b[0mp\u001b[0m\u001b[0;34m,\u001b[0m \u001b[0maxis\u001b[0m\u001b[0;34m=\u001b[0m\u001b[0;36m1\u001b[0m\u001b[0;34m)\u001b[0m\u001b[0;34m[\u001b[0m\u001b[0;34m:\u001b[0m\u001b[0;34m,\u001b[0m \u001b[0mnp\u001b[0m\u001b[0;34m.\u001b[0m\u001b[0mnewaxis\u001b[0m\u001b[0;34m]\u001b[0m\u001b[0;34m\u001b[0m\u001b[0;34m\u001b[0m\u001b[0m\n",
      "\u001b[0;32m/Library/Frameworks/Python.framework/Versions/3.9/lib/python3.9/site-packages/sklearn/utils/extmath.py\u001b[0m in \u001b[0;36msafe_sparse_dot\u001b[0;34m(a, b, dense_output)\u001b[0m\n\u001b[1;32m    151\u001b[0m             \u001b[0mret\u001b[0m \u001b[0;34m=\u001b[0m \u001b[0mnp\u001b[0m\u001b[0;34m.\u001b[0m\u001b[0mdot\u001b[0m\u001b[0;34m(\u001b[0m\u001b[0ma\u001b[0m\u001b[0;34m,\u001b[0m \u001b[0mb\u001b[0m\u001b[0;34m)\u001b[0m\u001b[0;34m\u001b[0m\u001b[0;34m\u001b[0m\u001b[0m\n\u001b[1;32m    152\u001b[0m     \u001b[0;32melse\u001b[0m\u001b[0;34m:\u001b[0m\u001b[0;34m\u001b[0m\u001b[0;34m\u001b[0m\u001b[0m\n\u001b[0;32m--> 153\u001b[0;31m         \u001b[0mret\u001b[0m \u001b[0;34m=\u001b[0m \u001b[0ma\u001b[0m \u001b[0;34m@\u001b[0m \u001b[0mb\u001b[0m\u001b[0;34m\u001b[0m\u001b[0;34m\u001b[0m\u001b[0m\n\u001b[0m\u001b[1;32m    154\u001b[0m \u001b[0;34m\u001b[0m\u001b[0m\n\u001b[1;32m    155\u001b[0m     if (\n",
      "\u001b[0;31mKeyboardInterrupt\u001b[0m: "
     ]
    }
   ],
   "source": [
    "lm.LogisticRegression(solver=\"lbfgs\") \n",
    "lm.LogisticRegression(n_jobs=-1) \n",
    "lm.LogisticRegression(multi_class='multinomial')\n",
    "    \n",
    "tic = time.time()\n",
    "model = lm.LogisticRegression().fit(X[0:train,:], y[0:train])\n",
    "print(time.time() - tic)\n",
    "\n",
    "%store model # Store model so we don't have to rerun every time"
   ]
  },
  {
   "cell_type": "code",
   "execution_count": 10,
   "id": "96b816d1",
   "metadata": {},
   "outputs": [
    {
     "name": "stdout",
     "output_type": "stream",
     "text": [
      "Percent Correct Positive Classification:  2.129688493324857\n",
      "Percent Correct Negative Classification:  30.16528925619835\n",
      "Percent Positive Misclassification:  66.94744649290104\n",
      "Percent Incorrect Negative Classification:  0.7575757575757576\n",
      "Percent Incorrect Positive Classification:  0.0\n"
     ]
    }
   ],
   "source": [
    "%store -r model\n",
    "prediction = model.predict(X[train:train+test,:])\n",
    "\n",
    "count = 0\n",
    "secondCount = 0\n",
    "thirdCount = 0\n",
    "fourthCount = 0\n",
    "fifthCount = 0\n",
    "sixthCount = 0\n",
    "\n",
    "for i in range(len(prediction)):\n",
    "    if prediction[i] == y[train + i] and prediction[i] > 0: # if model correctly predicts what consumer will buy\n",
    "        count = count + 1\n",
    "    if prediction[i] == y[train + i] and prediction[i] == 0: # if model correctly predicts when consumer will NOT buy\n",
    "        secondCount = secondCount + 1\n",
    "    if y[train + i] > 0 and prediction[i] > 0 and prediction[i] != y[train + i]: # if model predicts consumer will buy, but it is the wrong item\n",
    "        thirdCount = thirdCount + 1\n",
    "    if y[train + i] > 0 and prediction[i] == 0: # if model predicts consumer will NOT buy when consumer does buy\n",
    "        fourthCount = fourthCount + 1\n",
    "    if prediction[i] > 0 and y[train + i]  == 0: # if model thinks consumer buys when consumer does NOT buy anything\n",
    "        fifthCount = fifthCount + 1\n",
    "  \n",
    "        \n",
    "total = len(prediction)/100\n",
    "print(\"Percent Correct Positive Classification: \",count/total)\n",
    "print(\"Percent Correct Negative Classification: \",secondCount/total)\n",
    "print(\"Percent Positive Misclassification: \",thirdCount/total)\n",
    "print(\"Percent Incorrect Negative Classification: \",fourthCount/total)\n",
    "print(\"Percent Incorrect Positive Classification: \",fifthCount/total)\n",
    "        \n"
   ]
  },
  {
   "cell_type": "code",
   "execution_count": 11,
   "id": "84d7e69e",
   "metadata": {},
   "outputs": [
    {
     "ename": "NameError",
     "evalue": "name 'coef' is not defined",
     "output_type": "error",
     "traceback": [
      "\u001b[0;31m---------------------------------------------------------------------------\u001b[0m",
      "\u001b[0;31mNameError\u001b[0m                                 Traceback (most recent call last)",
      "\u001b[0;32m/var/folders/bv/n177p7rs6039v5q0msyhqw8c0000gn/T/ipykernel_51533/764512568.py\u001b[0m in \u001b[0;36m<module>\u001b[0;34m\u001b[0m\n\u001b[0;32m----> 1\u001b[0;31m \u001b[0mprint\u001b[0m\u001b[0;34m(\u001b[0m\u001b[0mcoef\u001b[0m\u001b[0;34m.\u001b[0m\u001b[0mshape\u001b[0m\u001b[0;34m[\u001b[0m\u001b[0;36m0\u001b[0m\u001b[0;34m]\u001b[0m\u001b[0;34m)\u001b[0m \u001b[0;31m# 5141 items\u001b[0m\u001b[0;34m\u001b[0m\u001b[0;34m\u001b[0m\u001b[0m\n\u001b[0m\u001b[1;32m      2\u001b[0m \u001b[0mprint\u001b[0m\u001b[0;34m(\u001b[0m\u001b[0mmodel\u001b[0m\u001b[0;34m.\u001b[0m\u001b[0mclasses_\u001b[0m\u001b[0;34m.\u001b[0m\u001b[0mastype\u001b[0m\u001b[0;34m(\u001b[0m\u001b[0mint\u001b[0m\u001b[0;34m)\u001b[0m\u001b[0;34m)\u001b[0m\u001b[0;34m\u001b[0m\u001b[0;34m\u001b[0m\u001b[0m\n\u001b[1;32m      3\u001b[0m \u001b[0;34m\u001b[0m\u001b[0m\n",
      "\u001b[0;31mNameError\u001b[0m: name 'coef' is not defined"
     ]
    }
   ],
   "source": [
    "\n",
    "    "
   ]
  },
  {
   "cell_type": "markdown",
   "id": "5f404fd4",
   "metadata": {},
   "source": [
    "## Part 2\n",
    "### Question 1\n",
    "Construct a multi-armed bandit algorithm such that\n",
    "\n",
    "1. It is randomly initialized at first and selects **one** product out of $j$ available products.\n",
    "2. It updates  $\\beta_{0j}, \\beta_{1j},\\cdots \\beta_{kj}$ and $\\alpha_j$  over  time by observing the utility $\\widehat{u}_{ij}$ of each product $j$ it selected in the past and selects new products\n"
   ]
  },
  {
   "cell_type": "code",
   "execution_count": 12,
   "id": "e04e4738",
   "metadata": {},
   "outputs": [
    {
     "name": "stderr",
     "output_type": "stream",
     "text": [
      "\r",
      "  0%|                                                     | 0/1 [00:00<?, ?it/s]"
     ]
    },
    {
     "name": "stdout",
     "output_type": "stream",
     "text": [
      "[0.]\n",
      "[0.49346605]\n",
      "[-1.56229816]\n",
      "[-0.26312182]\n",
      "[-0.02959535]\n",
      "[-0.79075065]\n",
      "[-0.28629005]\n",
      "[9.09149589]\n",
      "[1.64556276]\n",
      "[8.91419801]\n",
      "[10.08227919]\n",
      "[-0.27380707]\n",
      "[1.07748881]\n",
      "[-0.31158095]\n",
      "[1.08592156]\n",
      "[-0.07617194]\n",
      "[0.03787686]\n",
      "[-0.67840043]\n",
      "[1.27303646]\n",
      "[0.15245722]\n",
      "[0.1582163]\n",
      "[2.00575032]\n",
      "[-0.90449859]\n",
      "[-0.02959535]\n",
      "[-2.68697298]\n",
      "[-0.1880113]\n",
      "[-0.05249765]\n",
      "[-0.00587111]\n",
      "[-0.00587111]\n",
      "[-0.00587111]\n",
      "[-0.00587111]\n",
      "[-0.00587111]\n",
      "[-0.00587111]\n",
      "[-0.00587111]\n",
      "[-0.00587111]\n",
      "[-1.40544356]\n",
      "[-0.00587111]\n",
      "[-0.00587111]\n",
      "[-0.00587111]\n",
      "[-0.00587111]\n",
      "[-0.00587111]\n",
      "[-0.00587111]\n",
      "[-0.00587111]\n",
      "[-0.00587111]\n",
      "[-0.00587111]\n",
      "[-0.00587111]\n",
      "[-0.00587111]\n",
      "[-0.00587111]\n",
      "[-0.00587111]\n",
      "[-0.00587111]\n",
      "[-0.00587111]\n",
      "[-0.00587111]\n",
      "[-0.00587111]\n",
      "[-0.00587111]\n",
      "[-0.00587111]\n",
      "[-0.00587111]\n",
      "[-0.00587111]\n",
      "[-0.00587111]\n",
      "[-0.00587111]\n",
      "[-0.00587111]\n",
      "[-0.00587111]\n",
      "[-0.00587111]\n",
      "[-0.63435702]\n",
      "[-0.00587111]\n",
      "[-0.00587111]\n",
      "[-0.00587111]\n",
      "[-0.00587111]\n",
      "[-0.00587111]\n",
      "[-0.00587111]\n",
      "[-0.00587111]\n",
      "[-0.00587111]\n",
      "[-0.00587111]\n",
      "[-0.00587111]\n",
      "[-0.00587111]\n",
      "[-0.00587111]\n",
      "[-0.00587111]\n",
      "[-0.00587111]\n",
      "[-0.00587111]\n",
      "[-0.00587111]\n",
      "[-0.00587111]\n"
     ]
    },
    {
     "name": "stderr",
     "output_type": "stream",
     "text": [
      "  0%|                                                     | 0/1 [00:23<?, ?it/s]\n"
     ]
    },
    {
     "ename": "IndexError",
     "evalue": "index 5171 is out of bounds for axis 0 with size 5141",
     "output_type": "error",
     "traceback": [
      "\u001b[0;31m---------------------------------------------------------------------------\u001b[0m",
      "\u001b[0;31mIndexError\u001b[0m                                Traceback (most recent call last)",
      "\u001b[0;32m/var/folders/bv/n177p7rs6039v5q0msyhqw8c0000gn/T/ipykernel_51533/3959253412.py\u001b[0m in \u001b[0;36m<module>\u001b[0;34m\u001b[0m\n\u001b[1;32m     47\u001b[0m \u001b[0;34m\u001b[0m\u001b[0m\n\u001b[1;32m     48\u001b[0m         \u001b[0mindex\u001b[0m \u001b[0;34m=\u001b[0m \u001b[0mnp\u001b[0m\u001b[0;34m.\u001b[0m\u001b[0margmax\u001b[0m\u001b[0;34m(\u001b[0m\u001b[0mprobs\u001b[0m\u001b[0;34m)\u001b[0m \u001b[0;31m# Choose the item that maximizes the utility of the LinUCB algorithm\u001b[0m\u001b[0;34m\u001b[0m\u001b[0;34m\u001b[0m\u001b[0m\n\u001b[0;32m---> 49\u001b[0;31m         \u001b[0mxVec\u001b[0m\u001b[0;34m[\u001b[0m\u001b[0;36m8\u001b[0m\u001b[0;34m,\u001b[0m\u001b[0;34m:\u001b[0m\u001b[0;34m]\u001b[0m \u001b[0;34m=\u001b[0m \u001b[0mprices\u001b[0m\u001b[0;34m[\u001b[0m\u001b[0mclasses\u001b[0m\u001b[0;34m[\u001b[0m\u001b[0mindex\u001b[0m\u001b[0;34m]\u001b[0m\u001b[0;34m]\u001b[0m\u001b[0;34m\u001b[0m\u001b[0;34m\u001b[0m\u001b[0m\n\u001b[0m\u001b[1;32m     50\u001b[0m         \u001b[0;31m# print(thetas[index,:])\u001b[0m\u001b[0;34m\u001b[0m\u001b[0;34m\u001b[0m\u001b[0m\n\u001b[1;32m     51\u001b[0m         \u001b[0;31m# print(xVec)\u001b[0m\u001b[0;34m\u001b[0m\u001b[0;34m\u001b[0m\u001b[0m\n",
      "\u001b[0;31mIndexError\u001b[0m: index 5171 is out of bounds for axis 0 with size 5141"
     ]
    }
   ],
   "source": [
    "%store -r model \n",
    "# Load our previously-stored model\n",
    "\n",
    "numIters = 100\n",
    "numCustomers = 1\n",
    "alpha = np.sqrt((featureCount + 1) * 0)\n",
    "reward = 1\n",
    "\n",
    "classes = model.classes_.astype(int)\n",
    "numClasses = classes.shape[0]\n",
    "coef = model.coef_\n",
    "indices = np.zeros((numCustomers,numIters))\n",
    "\n",
    "\n",
    "shuffledCustomers = custFeatureArr[0:numCustomers,:]\n",
    "# np.random.shuffle(shuffledCustomers) # Randomly select customers\n",
    "\n",
    "## PREPARE FOR LINEAR ALGEBRAIC OPERATIONS USING VECTORS AND MATRICES\n",
    "Vecs = np.zeros((numProd,featureCount + 1))\n",
    "Arms = np.zeros((numProd,featureCount + 1,featureCount + 1))\n",
    "thetas = np.zeros((numProd,featureCount + 1))\n",
    "probs = np.zeros(numProd)\n",
    "xVec = np.zeros((9,1))\n",
    "XVecT = np.transpose(xVec)\n",
    "\n",
    "## PERFORM LINUCB ALGORITHM\n",
    "for customer in tqdm(range(numCustomers)):\n",
    "    xVec[0:8,0] = shuffledCustomers[customer,:] # Consumer features\n",
    "    XVecT = np.transpose(xVec) # Transpose\n",
    "    for i in range(numIters):\n",
    "        alpha = np.sqrt((featureCount + 1) * np.log(i+1)) # Formula from slides\n",
    "        count = 1\n",
    "        for j in classes:\n",
    "            if (j == 0): # Skip if not bought\n",
    "                continue\n",
    "                \n",
    "            xVec[8,:] = prices[j] \n",
    "            xVec = xVec * coef[count].reshape(9,1) # Perform element-wise multiplication between features and weights\n",
    "            count = count + 1\n",
    "            xVecT = np.transpose(xVec)\n",
    "            \n",
    "            if (i == 0):\n",
    "                Arms[j,:,:] = np.identity(9)\n",
    "                \n",
    "            thetas[j,:] = np.dot(np.linalg.inv(Arms[j,:,:]),Vecs[j,:]) # Formula from slides\n",
    "            probs[j] = np.squeeze(np.dot(np.transpose(thetas[j,:]),xVec)) + alpha * np.squeeze(np.sqrt(np.dot(np.dot(xVecT,np.linalg.inv(Arms[j,:,:])),xVec))) # Calculate utility\n",
    "            \n",
    "        index = np.argmax(probs) # Choose the item that maximizes the utility of the LinUCB algorithm\n",
    "        xVec[8,:] = prices[classes[index]]\n",
    "        # print(thetas[index,:])\n",
    "        # print(xVec)\n",
    "        reward = np.dot(coef[index], xVec)\n",
    "        print(reward)\n",
    "        indices[customer,i] = reward\n",
    "        Arms[index,:,:] = Arms[index,:,:] + np.dot(xVec,xVecT) # Update information of items\n",
    "        Vecs[index,:] = Vecs[index,:] + np.squeeze((reward * xVec)) # Update weights\n",
    "print(indices[0,:])"
   ]
  },
  {
   "cell_type": "markdown",
   "id": "59c55bb5",
   "metadata": {},
   "source": [
    "### Question 2\n",
    "\n",
    " Draw 1000 random consumers from your data. For each consumer,  run your online learning algorithm for 100 steps. Note that this is a simulation process --- i.e., your algorithm itself does not know $\\beta_{0j}, \\beta_{1j},\\cdots \\beta_{kj}$ and $\\alpha_j$, but can only observe the $\\widehat{u}_{ij}$ for any product $j$ that the algorithm pulled (i.e., purchased).     \n",
    " For each randomly picked consumer $i$, compute the difference $\\Delta_i$ between the  maximum utility $\\max_j\\widehat{u}_{ij}$ (i.e., consumer $i$'s  utility for her  favorite product) and the average utility that your algorithm\n",
    "achieved at the 100th step. Compute the average of $\\Delta_i$ over those 1000 consumers, and explain why there is such a difference.  "
   ]
  },
  {
   "cell_type": "code",
   "execution_count": 195,
   "id": "b6b3851e",
   "metadata": {},
   "outputs": [
    {
     "name": "stdout",
     "output_type": "stream",
     "text": [
      "MAX: [1891, 1936, 171.39000550340927]\n",
      "[  0.6363699    0.33887685  -0.17176747   1.12237884   1.50633498\n",
      "   1.73497235   6.           1.         111.81      ]\n",
      "diff: -14455.006088017632\n",
      "MAX: [1891, 1936, 171.90955521843037]\n",
      "[-1.73769315e-01 -3.24006150e-01 -5.32141305e-01  6.04090652e-02\n",
      "  4.64093247e-02  2.94528544e-02  3.00000000e+00  1.00000000e+00\n",
      "  1.11810000e+02]\n",
      "diff: -15339.242153061614\n",
      "MAX: [1891, 1936, 170.8164331014207]\n",
      "[  2.59023508   2.20408885   0.15970871   3.24631839   6.21053985\n",
      "   5.14601134  10.           1.         111.81      ]\n",
      "diff: -15340.340940203736\n"
     ]
    }
   ],
   "source": [
    "# Establish mapping of index to product\n",
    "products = [[position, product] for position, product in enumerate(classes)]\n",
    "\n",
    "# Similar procedure as before - create xVec and use model coefs to determine utility\n",
    "xVec = np.zeros(9)\n",
    "for customer in range(numCustomers):\n",
    "    xVec[0:8] = shuffledCustomers[customer,:]\n",
    "    max_utility = [None, None, float('-inf')]\n",
    "    max_xVec = None\n",
    "    # Note: position and product are analogous to count and j in the section above\n",
    "    for position, product in products:\n",
    "        xVec[8] = prices[product]\n",
    "        combined = xVec * coef[position]\n",
    "\n",
    "        utility = np.sum(combined)\n",
    "        if utility > max_utility[2]:\n",
    "            max_utility = [position, product, utility]\n",
    "            max_xVec = xVec\n",
    "    print('MAX:', max_utility)\n",
    "    print(max_xVec)\n",
    "    import math\n",
    "    print('diff:', max_utility[2] - indices[customer, numIters-1])"
   ]
  },
  {
   "cell_type": "code",
   "execution_count": 169,
   "id": "5120a4c7",
   "metadata": {},
   "outputs": [
    {
     "name": "stdout",
     "output_type": "stream",
     "text": [
      "[[    0.           431.22684447  3633.56276635  5724.9960506\n",
      "   7532.35499073  9162.63710379 10665.30017289 12069.387099\n",
      "  13393.99850143 14652.5940917 ]]\n"
     ]
    },
    {
     "data": {
      "text/plain": [
       "14652.594091702491"
      ]
     },
     "execution_count": 169,
     "metadata": {},
     "output_type": "execute_result"
    }
   ],
   "source": [
    "# print(prices[1936])\n",
    "# print(max_xVec)\n",
    "# print(coef[1891])\n",
    "# print(693.8 * 0.2488)\n",
    "\n",
    "# model.predict(max_xVec.reshape(1,-1))\n",
    "print(indices)\n",
    "np.shape(indices)\n",
    "indices[0, 9]"
   ]
  },
  {
   "cell_type": "markdown",
   "id": "04b91ba4",
   "metadata": {},
   "source": [
    "Explain why there is such a difference."
   ]
  },
  {
   "cell_type": "markdown",
   "id": "6239d3c1",
   "metadata": {},
   "source": [
    "The reason why there's going to be a difference  (non-zero average of all of the deltas) is because our model is still learning the utility parameters and is attempting to approximate them without knowing the underlying distributional parameters.  So we can only look at the empirical observations and learn as we make observations, which will only be a sample that lacks sufficient information to fully describe the distribution."
   ]
  }
 ],
 "metadata": {
  "kernelspec": {
   "display_name": "Python 3 (ipykernel)",
   "language": "python",
   "name": "python3"
  },
  "language_info": {
   "codemirror_mode": {
    "name": "ipython",
    "version": 3
   },
   "file_extension": ".py",
   "mimetype": "text/x-python",
   "name": "python",
   "nbconvert_exporter": "python",
   "pygments_lexer": "ipython3",
   "version": "3.9.7"
  }
 },
 "nbformat": 4,
 "nbformat_minor": 5
}
