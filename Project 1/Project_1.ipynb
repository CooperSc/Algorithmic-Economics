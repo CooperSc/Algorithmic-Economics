{
 "cells": [
  {
   "cell_type": "markdown",
   "id": "9fc30ed8",
   "metadata": {},
   "source": [
    "# CS 4501 Algorithmic Economics - Project 1\n",
    "\n",
    "**Note:** For each of the question, please add some print or graph drawing commands to show your results in a clear way and also necessary analyses and demonstrations to help people who are not in your group understand your logics and results.\n"
   ]
  },
  {
   "cell_type": "markdown",
   "id": "dcd94d38",
   "metadata": {},
   "source": [
    "## Part 1\n",
    "### Question 1\n",
    "Using a Jupyter notebook import the csv file as pandas dataframe."
   ]
  },
  {
   "cell_type": "code",
   "execution_count": 300,
   "id": "428ba198",
   "metadata": {},
   "outputs": [
    {
     "name": "stdout",
     "output_type": "stream",
     "text": [
      "Number of Customer_ID 22625\n",
      "Number of SKU   5242\n",
      "2016-12-31 00:00:00\n"
     ]
    }
   ],
   "source": [
    "import pandas as pd\n",
    "import numpy as np\n",
    "import time as time\n",
    "from tqdm import tqdm\n",
    "from sklearn import linear_model as lm\n",
    "df = pd.read_csv('./scanner_data.csv', index_col=0) # Tell pandas to ignore index column\n",
    "\n",
    "# Note: data format is DD/MM/YYYY and starts at 2/1/2016\n",
    "df['Date'] = pd.to_datetime(df['Date'], format='%d/%m/%Y')\n",
    "\n",
    "print(  \"Number of Customer_ID\",    len(pd.unique(df['Customer_ID']))  )\n",
    "print(  \"Number of SKU  \",    len(pd.unique(df['SKU']))  )\n",
    "print(max(df['Date']))"
   ]
  },
  {
   "cell_type": "markdown",
   "id": "95ca3f70",
   "metadata": {},
   "source": [
    "### Question 2\n",
    "The fact that consumer does not purchase anything can be \n",
    "interpreted as that she chose an outside option. Given that the fact that she chose an outside option is not recorded in this dataset, argue how you would construct a proxi variable for the choice of an outside option. Add such a proxi variable to your dataframe. \n",
    "\n",
    "**Hint:** you can use information that some consumers do not appear in the data every week. "
   ]
  },
  {
   "cell_type": "markdown",
   "id": "fa33658f",
   "metadata": {},
   "source": [
    "**Please input your answer in this cell:**\n",
    "\n",
    "\n"
   ]
  },
  {
   "cell_type": "markdown",
   "id": "04e1c7b2",
   "metadata": {},
   "source": [
    "Add such a proxi variable to your dataframe. \n"
   ]
  },
  {
   "cell_type": "code",
   "execution_count": 429,
   "id": "47e81891",
   "metadata": {
    "scrolled": false
   },
   "outputs": [
    {
     "name": "stderr",
     "output_type": "stream",
     "text": [
      "100%|██████████████████████████████████| 5242/5242 [00:00<00:00, 2089975.43it/s]\n",
      "100%|████████████████████████████████████| 22625/22625 [02:43<00:00, 138.69it/s]\n"
     ]
    }
   ],
   "source": [
    "#Filter the data\n",
    "df = df.sort_values(by=['SKU'])\n",
    "SKUIndices = {}\n",
    "SKU = pd.unique(df['SKU'])\n",
    "for i in tqdm(range(len(SKU))):\n",
    "    SKUIndices[SKU[i]] = i;\n",
    "    \n",
    "customers = pd.unique(df['Customer_ID'])\n",
    "numCust = len(customers)\n",
    "\n",
    "numProd = len(SKU)\n",
    "utilities = np.zeros((numCust, numProd))\n",
    "\n",
    "for i in tqdm(range(numCust)):\n",
    "    custArr = df[df['Customer_ID'] == customers[i]]\n",
    "    utilities[i,:] = 0\n",
    "    prodIDs = custArr['SKU'].unique()\n",
    "    for j in range(len(prodIDs)):\n",
    "        utilities[i,SKUIndices[prodIDs[j]]] = utilities[i,SKUIndices[prodIDs[j]]] + len(custArr[custArr['SKU'] == SKU[SKUIndices[prodIDs[j]]]].Date.dt.isocalendar().week.unique())\n",
    "    \n"
   ]
  },
  {
   "cell_type": "code",
   "execution_count": 297,
   "id": "f80b8d66",
   "metadata": {},
   "outputs": [
    {
     "name": "stdout",
     "output_type": "stream",
     "text": [
      "1\n"
     ]
    }
   ],
   "source": [
    "print(len(custArr[custArr['SKU'] == SKU[SKUIndices[prodIDs[j]]]].Date.dt.isocalendar().week.unique()))"
   ]
  },
  {
   "cell_type": "markdown",
   "id": "6a60b9ef",
   "metadata": {},
   "source": [
    "### Question 3\n",
    "Given that we do not have **explicit** consumer feature vectors $\\mathbf{x}^i = (x^i_1, \\cdots, x_k^i)$  in the data, discuss how you would construct such feature vectors for each consumer $i$ from the given data. Add your constructed characteristics to your dataframe. \n",
    "\n",
    "**Hint:** you can use transaction history and argue that past shopping patterns may give a good characterization for a given consumer."
   ]
  },
  {
   "cell_type": "markdown",
   "id": "7bc09a47",
   "metadata": {},
   "source": [
    "**Please input your answer in this cell:**\n",
    "\n",
    "\n",
    "\n"
   ]
  },
  {
   "cell_type": "markdown",
   "id": "fbc0d2e3",
   "metadata": {},
   "source": [
    "Add your constructed characteristics to your dataframe. "
   ]
  },
  {
   "cell_type": "code",
   "execution_count": 444,
   "id": "fed0c2a6",
   "metadata": {},
   "outputs": [
    {
     "name": "stderr",
     "output_type": "stream",
     "text": [
      "100%|████████████████████████████████████| 22625/22625 [01:31<00:00, 247.68it/s]\n",
      "  7%|██▊                                     | 374/5242 [00:12<02:39, 30.58it/s]\n"
     ]
    },
    {
     "ename": "KeyboardInterrupt",
     "evalue": "",
     "output_type": "error",
     "traceback": [
      "\u001b[0;31m---------------------------------------------------------------------------\u001b[0m",
      "\u001b[0;31mKeyboardInterrupt\u001b[0m                         Traceback (most recent call last)",
      "\u001b[0;32m/var/folders/bv/n177p7rs6039v5q0msyhqw8c0000gn/T/ipykernel_5229/2591544463.py\u001b[0m in \u001b[0;36m<module>\u001b[0;34m\u001b[0m\n\u001b[1;32m     15\u001b[0m \u001b[0mprices\u001b[0m \u001b[0;34m=\u001b[0m \u001b[0mnp\u001b[0m\u001b[0;34m.\u001b[0m\u001b[0mzeros\u001b[0m\u001b[0;34m(\u001b[0m\u001b[0;34m(\u001b[0m\u001b[0mnumProd\u001b[0m\u001b[0;34m,\u001b[0m\u001b[0;36m1\u001b[0m\u001b[0;34m)\u001b[0m\u001b[0;34m)\u001b[0m\u001b[0;34m\u001b[0m\u001b[0;34m\u001b[0m\u001b[0m\n\u001b[1;32m     16\u001b[0m \u001b[0;32mfor\u001b[0m \u001b[0mi\u001b[0m \u001b[0;32min\u001b[0m \u001b[0mtqdm\u001b[0m\u001b[0;34m(\u001b[0m\u001b[0mrange\u001b[0m\u001b[0;34m(\u001b[0m\u001b[0mnumProd\u001b[0m\u001b[0;34m)\u001b[0m\u001b[0;34m)\u001b[0m\u001b[0;34m:\u001b[0m\u001b[0;34m\u001b[0m\u001b[0;34m\u001b[0m\u001b[0m\n\u001b[0;32m---> 17\u001b[0;31m     \u001b[0mprices\u001b[0m\u001b[0;34m[\u001b[0m\u001b[0mi\u001b[0m\u001b[0;34m,\u001b[0m\u001b[0;36m0\u001b[0m\u001b[0;34m]\u001b[0m \u001b[0;34m=\u001b[0m \u001b[0;34m(\u001b[0m\u001b[0mdf\u001b[0m\u001b[0;34m[\u001b[0m\u001b[0mdf\u001b[0m\u001b[0;34m[\u001b[0m\u001b[0;34m'SKU'\u001b[0m\u001b[0;34m]\u001b[0m \u001b[0;34m==\u001b[0m \u001b[0mSKU\u001b[0m\u001b[0;34m[\u001b[0m\u001b[0mi\u001b[0m\u001b[0;34m]\u001b[0m\u001b[0;34m]\u001b[0m\u001b[0;34m.\u001b[0m\u001b[0mSales_Amount\u001b[0m \u001b[0;34m/\u001b[0m \u001b[0mdf\u001b[0m\u001b[0;34m[\u001b[0m\u001b[0mdf\u001b[0m\u001b[0;34m[\u001b[0m\u001b[0;34m'SKU'\u001b[0m\u001b[0;34m]\u001b[0m \u001b[0;34m==\u001b[0m \u001b[0mSKU\u001b[0m\u001b[0;34m[\u001b[0m\u001b[0mi\u001b[0m\u001b[0;34m]\u001b[0m\u001b[0;34m]\u001b[0m\u001b[0;34m.\u001b[0m\u001b[0mQuantity\u001b[0m\u001b[0;34m)\u001b[0m\u001b[0;34m.\u001b[0m\u001b[0miloc\u001b[0m\u001b[0;34m[\u001b[0m\u001b[0;36m0\u001b[0m\u001b[0;34m]\u001b[0m\u001b[0;34m\u001b[0m\u001b[0;34m\u001b[0m\u001b[0m\n\u001b[0m\u001b[1;32m     18\u001b[0m \u001b[0;34m\u001b[0m\u001b[0m\n",
      "\u001b[0;32m/Library/Frameworks/Python.framework/Versions/3.9/lib/python3.9/site-packages/pandas/core/ops/common.py\u001b[0m in \u001b[0;36mnew_method\u001b[0;34m(self, other)\u001b[0m\n\u001b[1;32m     68\u001b[0m         \u001b[0mother\u001b[0m \u001b[0;34m=\u001b[0m \u001b[0mitem_from_zerodim\u001b[0m\u001b[0;34m(\u001b[0m\u001b[0mother\u001b[0m\u001b[0;34m)\u001b[0m\u001b[0;34m\u001b[0m\u001b[0;34m\u001b[0m\u001b[0m\n\u001b[1;32m     69\u001b[0m \u001b[0;34m\u001b[0m\u001b[0m\n\u001b[0;32m---> 70\u001b[0;31m         \u001b[0;32mreturn\u001b[0m \u001b[0mmethod\u001b[0m\u001b[0;34m(\u001b[0m\u001b[0mself\u001b[0m\u001b[0;34m,\u001b[0m \u001b[0mother\u001b[0m\u001b[0;34m)\u001b[0m\u001b[0;34m\u001b[0m\u001b[0;34m\u001b[0m\u001b[0m\n\u001b[0m\u001b[1;32m     71\u001b[0m \u001b[0;34m\u001b[0m\u001b[0m\n\u001b[1;32m     72\u001b[0m     \u001b[0;32mreturn\u001b[0m \u001b[0mnew_method\u001b[0m\u001b[0;34m\u001b[0m\u001b[0;34m\u001b[0m\u001b[0m\n",
      "\u001b[0;32m/Library/Frameworks/Python.framework/Versions/3.9/lib/python3.9/site-packages/pandas/core/arraylike.py\u001b[0m in \u001b[0;36m__eq__\u001b[0;34m(self, other)\u001b[0m\n\u001b[1;32m     38\u001b[0m     \u001b[0;34m@\u001b[0m\u001b[0munpack_zerodim_and_defer\u001b[0m\u001b[0;34m(\u001b[0m\u001b[0;34m\"__eq__\"\u001b[0m\u001b[0;34m)\u001b[0m\u001b[0;34m\u001b[0m\u001b[0;34m\u001b[0m\u001b[0m\n\u001b[1;32m     39\u001b[0m     \u001b[0;32mdef\u001b[0m \u001b[0m__eq__\u001b[0m\u001b[0;34m(\u001b[0m\u001b[0mself\u001b[0m\u001b[0;34m,\u001b[0m \u001b[0mother\u001b[0m\u001b[0;34m)\u001b[0m\u001b[0;34m:\u001b[0m\u001b[0;34m\u001b[0m\u001b[0;34m\u001b[0m\u001b[0m\n\u001b[0;32m---> 40\u001b[0;31m         \u001b[0;32mreturn\u001b[0m \u001b[0mself\u001b[0m\u001b[0;34m.\u001b[0m\u001b[0m_cmp_method\u001b[0m\u001b[0;34m(\u001b[0m\u001b[0mother\u001b[0m\u001b[0;34m,\u001b[0m \u001b[0moperator\u001b[0m\u001b[0;34m.\u001b[0m\u001b[0meq\u001b[0m\u001b[0;34m)\u001b[0m\u001b[0;34m\u001b[0m\u001b[0;34m\u001b[0m\u001b[0m\n\u001b[0m\u001b[1;32m     41\u001b[0m \u001b[0;34m\u001b[0m\u001b[0m\n\u001b[1;32m     42\u001b[0m     \u001b[0;34m@\u001b[0m\u001b[0munpack_zerodim_and_defer\u001b[0m\u001b[0;34m(\u001b[0m\u001b[0;34m\"__ne__\"\u001b[0m\u001b[0;34m)\u001b[0m\u001b[0;34m\u001b[0m\u001b[0;34m\u001b[0m\u001b[0m\n",
      "\u001b[0;32m/Library/Frameworks/Python.framework/Versions/3.9/lib/python3.9/site-packages/pandas/core/series.py\u001b[0m in \u001b[0;36m_cmp_method\u001b[0;34m(self, other, op)\u001b[0m\n\u001b[1;32m   5621\u001b[0m \u001b[0;34m\u001b[0m\u001b[0m\n\u001b[1;32m   5622\u001b[0m         \u001b[0;32mwith\u001b[0m \u001b[0mnp\u001b[0m\u001b[0;34m.\u001b[0m\u001b[0merrstate\u001b[0m\u001b[0;34m(\u001b[0m\u001b[0mall\u001b[0m\u001b[0;34m=\u001b[0m\u001b[0;34m\"ignore\"\u001b[0m\u001b[0;34m)\u001b[0m\u001b[0;34m:\u001b[0m\u001b[0;34m\u001b[0m\u001b[0;34m\u001b[0m\u001b[0m\n\u001b[0;32m-> 5623\u001b[0;31m             \u001b[0mres_values\u001b[0m \u001b[0;34m=\u001b[0m \u001b[0mops\u001b[0m\u001b[0;34m.\u001b[0m\u001b[0mcomparison_op\u001b[0m\u001b[0;34m(\u001b[0m\u001b[0mlvalues\u001b[0m\u001b[0;34m,\u001b[0m \u001b[0mrvalues\u001b[0m\u001b[0;34m,\u001b[0m \u001b[0mop\u001b[0m\u001b[0;34m)\u001b[0m\u001b[0;34m\u001b[0m\u001b[0;34m\u001b[0m\u001b[0m\n\u001b[0m\u001b[1;32m   5624\u001b[0m \u001b[0;34m\u001b[0m\u001b[0m\n\u001b[1;32m   5625\u001b[0m         \u001b[0;32mreturn\u001b[0m \u001b[0mself\u001b[0m\u001b[0;34m.\u001b[0m\u001b[0m_construct_result\u001b[0m\u001b[0;34m(\u001b[0m\u001b[0mres_values\u001b[0m\u001b[0;34m,\u001b[0m \u001b[0mname\u001b[0m\u001b[0;34m=\u001b[0m\u001b[0mres_name\u001b[0m\u001b[0;34m)\u001b[0m\u001b[0;34m\u001b[0m\u001b[0;34m\u001b[0m\u001b[0m\n",
      "\u001b[0;32m/Library/Frameworks/Python.framework/Versions/3.9/lib/python3.9/site-packages/pandas/core/ops/array_ops.py\u001b[0m in \u001b[0;36mcomparison_op\u001b[0;34m(left, right, op)\u001b[0m\n\u001b[1;32m    281\u001b[0m \u001b[0;34m\u001b[0m\u001b[0m\n\u001b[1;32m    282\u001b[0m     \u001b[0;32melif\u001b[0m \u001b[0mis_object_dtype\u001b[0m\u001b[0;34m(\u001b[0m\u001b[0mlvalues\u001b[0m\u001b[0;34m.\u001b[0m\u001b[0mdtype\u001b[0m\u001b[0;34m)\u001b[0m \u001b[0;32mor\u001b[0m \u001b[0misinstance\u001b[0m\u001b[0;34m(\u001b[0m\u001b[0mrvalues\u001b[0m\u001b[0;34m,\u001b[0m \u001b[0mstr\u001b[0m\u001b[0;34m)\u001b[0m\u001b[0;34m:\u001b[0m\u001b[0;34m\u001b[0m\u001b[0;34m\u001b[0m\u001b[0m\n\u001b[0;32m--> 283\u001b[0;31m         \u001b[0mres_values\u001b[0m \u001b[0;34m=\u001b[0m \u001b[0mcomp_method_OBJECT_ARRAY\u001b[0m\u001b[0;34m(\u001b[0m\u001b[0mop\u001b[0m\u001b[0;34m,\u001b[0m \u001b[0mlvalues\u001b[0m\u001b[0;34m,\u001b[0m \u001b[0mrvalues\u001b[0m\u001b[0;34m)\u001b[0m\u001b[0;34m\u001b[0m\u001b[0;34m\u001b[0m\u001b[0m\n\u001b[0m\u001b[1;32m    284\u001b[0m \u001b[0;34m\u001b[0m\u001b[0m\n\u001b[1;32m    285\u001b[0m     \u001b[0;32melse\u001b[0m\u001b[0;34m:\u001b[0m\u001b[0;34m\u001b[0m\u001b[0;34m\u001b[0m\u001b[0m\n",
      "\u001b[0;32m/Library/Frameworks/Python.framework/Versions/3.9/lib/python3.9/site-packages/pandas/core/ops/array_ops.py\u001b[0m in \u001b[0;36mcomp_method_OBJECT_ARRAY\u001b[0;34m(op, x, y)\u001b[0m\n\u001b[1;32m     71\u001b[0m         \u001b[0mresult\u001b[0m \u001b[0;34m=\u001b[0m \u001b[0mlibops\u001b[0m\u001b[0;34m.\u001b[0m\u001b[0mvec_compare\u001b[0m\u001b[0;34m(\u001b[0m\u001b[0mx\u001b[0m\u001b[0;34m.\u001b[0m\u001b[0mravel\u001b[0m\u001b[0;34m(\u001b[0m\u001b[0;34m)\u001b[0m\u001b[0;34m,\u001b[0m \u001b[0my\u001b[0m\u001b[0;34m.\u001b[0m\u001b[0mravel\u001b[0m\u001b[0;34m(\u001b[0m\u001b[0;34m)\u001b[0m\u001b[0;34m,\u001b[0m \u001b[0mop\u001b[0m\u001b[0;34m)\u001b[0m\u001b[0;34m\u001b[0m\u001b[0;34m\u001b[0m\u001b[0m\n\u001b[1;32m     72\u001b[0m     \u001b[0;32melse\u001b[0m\u001b[0;34m:\u001b[0m\u001b[0;34m\u001b[0m\u001b[0;34m\u001b[0m\u001b[0m\n\u001b[0;32m---> 73\u001b[0;31m         \u001b[0mresult\u001b[0m \u001b[0;34m=\u001b[0m \u001b[0mlibops\u001b[0m\u001b[0;34m.\u001b[0m\u001b[0mscalar_compare\u001b[0m\u001b[0;34m(\u001b[0m\u001b[0mx\u001b[0m\u001b[0;34m.\u001b[0m\u001b[0mravel\u001b[0m\u001b[0;34m(\u001b[0m\u001b[0;34m)\u001b[0m\u001b[0;34m,\u001b[0m \u001b[0my\u001b[0m\u001b[0;34m,\u001b[0m \u001b[0mop\u001b[0m\u001b[0;34m)\u001b[0m\u001b[0;34m\u001b[0m\u001b[0;34m\u001b[0m\u001b[0m\n\u001b[0m\u001b[1;32m     74\u001b[0m     \u001b[0;32mreturn\u001b[0m \u001b[0mresult\u001b[0m\u001b[0;34m.\u001b[0m\u001b[0mreshape\u001b[0m\u001b[0;34m(\u001b[0m\u001b[0mx\u001b[0m\u001b[0;34m.\u001b[0m\u001b[0mshape\u001b[0m\u001b[0;34m)\u001b[0m\u001b[0;34m\u001b[0m\u001b[0;34m\u001b[0m\u001b[0m\n\u001b[1;32m     75\u001b[0m \u001b[0;34m\u001b[0m\u001b[0m\n",
      "\u001b[0;31mKeyboardInterrupt\u001b[0m: "
     ]
    }
   ],
   "source": [
    "\n",
    "featureCount = 7\n",
    "custFeatureArr = np.zeros((numCust,featureCount))\n",
    "\n",
    "for i in tqdm(range(numCust)):\n",
    "    # First Organize Data & Calculate Features\n",
    "    transactions = df[df.Customer_ID == customers[i]]\n",
    "    custFeatureArr[i,0] = transactions.Quantity.sum()\n",
    "    custFeatureArr[i,1] = transactions.Sales_Amount.sum()\n",
    "    custFeatureArr[i,2] = custFeatureArr[i,1]/len(transactions.Date.unique())\n",
    "    custFeatureArr[i,3] = len(transactions.Date.unique())\n",
    "    custFeatureArr[i,4] = len(transactions.SKU.unique())\n",
    "    custFeatureArr[i,5] = len(transactions.SKU_Category.unique())\n",
    "    custFeatureArr[i,6] = len(transactions.Date.dt.isocalendar().week.unique())\n",
    "\n",
    "prices = np.zeros((numProd,1))\n",
    "for i in tqdm(range(numProd)):\n",
    "    prices[i,0] = (df[df['SKU'] == SKU[i]].Sales_Amount / df[df['SKU'] == SKU[i]].Quantity).iloc[0]\n",
    "    "
   ]
  },
  {
   "cell_type": "code",
   "execution_count": 375,
   "id": "af0f1b62",
   "metadata": {},
   "outputs": [
    {
     "name": "stdout",
     "output_type": "stream",
     "text": [
      "[2 0 0 0 0]\n",
      "[0 1 2]\n",
      "[[9.95844568e-01 2.34071061e-03 5.00258389e-04 8.28739306e-04\n",
      "  4.85723293e-04]\n",
      " [9.99710977e-01 2.66411860e-04 6.98571792e-06 1.01299132e-05\n",
      "  5.49583269e-06]\n",
      " [9.99999994e-01 6.33021641e-09 9.50965232e-13 1.79266724e-12\n",
      "  1.36410840e-12]\n",
      " [9.98071947e-01 1.20102044e-03 2.23058072e-04 2.70983020e-04\n",
      "  2.32991394e-04]\n",
      " [9.99674869e-01 2.69863145e-04 1.68743572e-05 2.15153005e-05\n",
      "  1.68783379e-05]]\n",
      "6\n",
      "0\n"
     ]
    }
   ],
   "source": []
  },
  {
   "cell_type": "markdown",
   "id": "caa79024",
   "metadata": {},
   "source": [
    "### Question 4\n",
    "Produce the utility parameters $\\beta_{0j}, \\beta_{1j},\\cdots \\beta_{kj}$ and $\\alpha_j$ for every product $j$  by estimating a multinomial \n",
    "logit model from your constructed dataset."
   ]
  },
  {
   "cell_type": "code",
   "execution_count": 445,
   "id": "f4c8924c",
   "metadata": {},
   "outputs": [
    {
     "name": "stderr",
     "output_type": "stream",
     "text": [
      "  0%|                                                     | 0/2 [00:00<?, ?it/s]/Library/Frameworks/Python.framework/Versions/3.9/lib/python3.9/site-packages/sklearn/linear_model/_logistic.py:814: ConvergenceWarning: lbfgs failed to converge (status=1):\n",
      "STOP: TOTAL NO. of ITERATIONS REACHED LIMIT.\n",
      "\n",
      "Increase the number of iterations (max_iter) or scale the data as shown in:\n",
      "    https://scikit-learn.org/stable/modules/preprocessing.html\n",
      "Please also refer to the documentation for alternative solver options:\n",
      "    https://scikit-learn.org/stable/modules/linear_model.html#logistic-regression\n",
      "  n_iter_i = _check_optimize_result(\n",
      " 50%|██████████████████████▌                      | 1/2 [00:02<00:02,  2.55s/it]"
     ]
    },
    {
     "name": "stdout",
     "output_type": "stream",
     "text": [
      "0\n",
      "27\n"
     ]
    },
    {
     "name": "stderr",
     "output_type": "stream",
     "text": [
      "/Library/Frameworks/Python.framework/Versions/3.9/lib/python3.9/site-packages/sklearn/linear_model/_logistic.py:814: ConvergenceWarning: lbfgs failed to converge (status=1):\n",
      "STOP: TOTAL NO. of ITERATIONS REACHED LIMIT.\n",
      "\n",
      "Increase the number of iterations (max_iter) or scale the data as shown in:\n",
      "    https://scikit-learn.org/stable/modules/preprocessing.html\n",
      "Please also refer to the documentation for alternative solver options:\n",
      "    https://scikit-learn.org/stable/modules/linear_model.html#logistic-regression\n",
      "  n_iter_i = _check_optimize_result(\n",
      "100%|█████████████████████████████████████████████| 2/2 [00:03<00:00,  1.92s/it]"
     ]
    },
    {
     "name": "stdout",
     "output_type": "stream",
     "text": [
      "6\n",
      "270\n",
      "[0 1 2 3]\n",
      "(array([    6,   197,   685, 13504]),)\n",
      "[1 1 3 1]\n",
      "[[0.99929282]\n",
      " [0.98859669]]\n",
      "(array([    1,   101,   127,   153,   169,   197,   215,   233,   238,\n",
      "         371,   376,   515,   623,   645,   685,   704,   909,   995,\n",
      "        1052,  1065,  1087,  1089,  1275,  1303,  1330,  1440,  1449,\n",
      "        1456,  1586,  1698,  1729,  1730,  1758,  1779,  1898,  1997,\n",
      "        1999,  2405,  2465,  2467,  2999,  3427,  3458,  3499,  3558,\n",
      "        3561,  3612,  3639,  3763,  3764,  4314,  4433,  4434,  4511,\n",
      "        4546,  4634,  4670,  5251,  5400,  5445,  5594,  5814,  6054,\n",
      "        6087,  6169,  6198,  6202,  6216,  6245,  6246,  6253,  6270,\n",
      "        6426,  6482,  6500,  6527,  6549,  6604,  6617,  6646,  6650,\n",
      "        6655,  6682,  6726,  6757,  6803,  6923,  6954,  7007,  7051,\n",
      "        7071,  7087,  7122,  7185,  7195,  7212,  7218,  7359,  7436,\n",
      "        7512,  7625,  7629,  7728,  7816,  7979,  8021,  8108,  8109,\n",
      "        8203,  8224,  8302,  8491,  8549,  8565,  8581,  8668,  8757,\n",
      "        8778,  8852,  9084,  9094,  9275,  9283,  9327,  9389,  9469,\n",
      "        9695,  9709,  9726, 10068, 10181, 10251, 10426, 10686, 10789,\n",
      "       10929, 10940, 10957, 11022, 11050, 11114, 11303, 11342, 11391,\n",
      "       11598, 11653, 11684, 11724, 11809, 11923, 12107, 12121, 12140,\n",
      "       12288, 12408, 12421, 12498, 12555, 12606, 12613, 12703, 12750,\n",
      "       12769, 12824, 12886, 12979, 13108, 13192, 13198, 13199, 13320,\n",
      "       13394, 13405, 13487, 13504, 13507, 13552, 13594, 13612, 13617,\n",
      "       13654, 13828, 13872, 13893, 13910, 13971, 14014, 14154, 14162,\n",
      "       14223, 14292, 14317, 14351, 14357, 14416, 14543, 14643, 14706,\n",
      "       14720, 14747, 14780, 14838, 14878, 14963, 15063, 15149, 15217,\n",
      "       15615, 15659, 15847, 15893, 15976, 16217, 16415, 16557, 16650,\n",
      "       16756, 16899, 16974, 17015, 17173, 17348, 17364, 17471, 17493,\n",
      "       17692, 17742, 17866, 18138, 18203, 18273, 18323, 18593, 18639,\n",
      "       18660, 19015, 19062, 19335, 19633, 19667, 20019, 20103, 20373,\n",
      "       20439, 20463, 20473, 20713, 20797, 20929, 21139, 21143, 21250,\n",
      "       21444, 21927, 22429, 22502, 22563, 22578]),)\n",
      "[0 3 1 1]\n"
     ]
    },
    {
     "name": "stderr",
     "output_type": "stream",
     "text": [
      "\n"
     ]
    }
   ],
   "source": [
    "#Hint: you can use sklearn.linear_model.LogisticRegression() to achieve an estimation\n",
    "shuffledArr = np.concatenate((custFeatureArr, utilities),axis=1)\n",
    "np.random.shuffle(shuffledArr)\n",
    "\n",
    "numRuns = 2\n",
    "\n",
    "scores = np.zeros((numRuns,1))\n",
    "X = shuffledArr[:,0:featureCount]\n",
    "utilities = shuffledArr[:,featureCount:-1]\n",
    "X = np.append(X,np.zeros((numCust,1)),axis=1)\n",
    "X = np.append(X,np.ones((numCust,1)),axis=1)\n",
    "\n",
    "training = int(len(X))\n",
    "\n",
    "for i in tqdm(range(numRuns)):\n",
    "    X[:,featureCount] = -1 * prices[i]\n",
    "    y = utilities[:,i].astype(int)\n",
    "    y_train = y[0:training]\n",
    "    x_train = X[0:training,:]\n",
    "    y_test = y[training:-1]\n",
    "    x_test = X[training:-1,:]\n",
    "    lm.LogisticRegression(multi_class='multinomial')\n",
    "    model = lm.LogisticRegression().fit(x_train, y_train)\n",
    "    scores[i,0] = model.score(x_train,y_train)\n",
    "    print(model.predict(x_train).sum())\n",
    "    print(y_train.sum())\n",
    "  \n",
    "print(np.unique(y_train))\n",
    "print(np.where(model.predict(x_train) > 0))\n",
    "print(model.predict(x_train)[np.where(model.predict(x_train) > 0)])\n",
    "print(scores)\n",
    "print(np.where(y_train > 0))\n",
    "print(y_train[np.where(model.predict(x_train) > 0)])\n",
    "\n",
    "#print(scores.sum()/10)\n"
   ]
  },
  {
   "cell_type": "markdown",
   "id": "5f404fd4",
   "metadata": {},
   "source": [
    "## Part 2\n",
    "### Question 1\n",
    "Construct a multi-armed bandit algorithm such that\n",
    "\n",
    "1. It is randomly initialized at first and selects **one** product out of $j$ available products.\n",
    "2. It updates  $\\beta_{0j}, \\beta_{1j},\\cdots \\beta_{kj}$ and $\\alpha_j$  over  time by observing the utility $\\widehat{u}_{ij}$ of each product $j$ it selected in the past and selects new products\n"
   ]
  },
  {
   "cell_type": "code",
   "execution_count": null,
   "id": "e04e4738",
   "metadata": {},
   "outputs": [],
   "source": [
    "#Hint: Try ridge regression on each arm separately,\n",
    "\n",
    "\n",
    "def decicde():\n",
    "    \n",
    "    return \n",
    "\n",
    "\n",
    "def update_parameter():\n",
    "    \n",
    "    \n",
    "    return \n",
    "\n",
    "\n"
   ]
  },
  {
   "cell_type": "markdown",
   "id": "59c55bb5",
   "metadata": {},
   "source": [
    "### Question 2\n",
    "\n",
    " Draw 1000 random consumers from your data. For each consumer,  run your online learning algorithm for 100 steps. Note that this is a simulation process --- i.e., your algorithm itself does not know $\\beta_{0j}, \\beta_{1j},\\cdots \\beta_{kj}$ and $\\alpha_j$, but can only observe the $\\widehat{u}_{ij}$ for any product $j$ that the algorithm pulled (i.e., purchased).     \n",
    " For each randomly picked consumer $i$, compute the difference $\\Delta_i$ between the  maximum utility $\\max_j\\widehat{u}_{ij}$ (i.e., consumer $i$'s  utility for her  favorite product) and the average utility that your algorithm\n",
    "achieved at the 100th step. Compute the average of $\\Delta_i$ over those 1000 consumers, and explain why there is such a difference.  "
   ]
  },
  {
   "cell_type": "code",
   "execution_count": null,
   "id": "b6b3851e",
   "metadata": {},
   "outputs": [],
   "source": [
    "def rewards_difference():\n",
    "    \n",
    "    \n",
    "    return \n",
    "\n",
    "\n",
    "\n",
    "def simulation():\n",
    "    \n",
    "    \n",
    "    return \n",
    "\n",
    "\n",
    "\n",
    "\n",
    "    \n",
    "\n"
   ]
  },
  {
   "cell_type": "markdown",
   "id": "04b91ba4",
   "metadata": {},
   "source": [
    "Explain why there is such a difference."
   ]
  },
  {
   "cell_type": "markdown",
   "id": "6239d3c1",
   "metadata": {},
   "source": [
    "**Please input your answer in this cell:**"
   ]
  }
 ],
 "metadata": {
  "kernelspec": {
   "display_name": "Python 3 (ipykernel)",
   "language": "python",
   "name": "python3"
  },
  "language_info": {
   "codemirror_mode": {
    "name": "ipython",
    "version": 3
   },
   "file_extension": ".py",
   "mimetype": "text/x-python",
   "name": "python",
   "nbconvert_exporter": "python",
   "pygments_lexer": "ipython3",
   "version": "3.9.7"
  }
 },
 "nbformat": 4,
 "nbformat_minor": 5
}
