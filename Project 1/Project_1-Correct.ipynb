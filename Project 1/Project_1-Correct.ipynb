{
 "cells": [
  {
   "cell_type": "markdown",
   "id": "9fc30ed8",
   "metadata": {},
   "source": [
    "# CS 4501 Algorithmic Economics - Project 1\n",
    "\n",
    "**Note:** For each of the question, please add some print or graph drawing commands to show your results in a clear way and also necessary analyses and demonstrations to help people who are not in your group understand your logics and results.\n"
   ]
  },
  {
   "cell_type": "markdown",
   "id": "dcd94d38",
   "metadata": {},
   "source": [
    "## Part 1\n",
    "### Question 1\n",
    "Using a Jupyter notebook import the csv file as pandas dataframe."
   ]
  },
  {
   "cell_type": "code",
   "execution_count": 5,
   "id": "428ba198",
   "metadata": {},
   "outputs": [
    {
     "name": "stdout",
     "output_type": "stream",
     "text": [
      "              Date  Customer_ID  Transaction_ID SKU_Category    SKU  Quantity  \\\n",
      "1       02/01/2016         2547               1          X52  0EM7L       1.0   \n",
      "2       02/01/2016          822               2          2ML  68BRQ       1.0   \n",
      "3       02/01/2016         3686               3          0H2  CZUZX       1.0   \n",
      "4       02/01/2016         3719               4          0H2  549KK       1.0   \n",
      "5       02/01/2016         9200               5          0H2  K8EHH       1.0   \n",
      "...            ...          ...             ...          ...    ...       ...   \n",
      "131702  04/07/2016        20203           32900          IEV  FO112       3.0   \n",
      "131703  04/07/2016        20203           32900          N8U  I36F2       1.0   \n",
      "131704  04/07/2016        20203           32900          U5F  4X8P4       1.0   \n",
      "131705  04/07/2016        20203           32900          0H2  ZVTO4       1.0   \n",
      "131706  04/07/2016        20203           32900          Q4N  QM9BP       1.0   \n",
      "\n",
      "        Sales_Amount  \n",
      "1               3.13  \n",
      "2               5.46  \n",
      "3               6.35  \n",
      "4               5.59  \n",
      "5               6.88  \n",
      "...              ...  \n",
      "131702          6.46  \n",
      "131703          4.50  \n",
      "131704          5.19  \n",
      "131705          4.57  \n",
      "131706         13.68  \n",
      "\n",
      "[131706 rows x 7 columns]\n",
      "Number of Customer_ID 22625\n",
      "Number of SKU   5242\n",
      "2016-12-31 00:00:00\n",
      "             Date  Customer_ID  Transaction_ID SKU_Category    SKU  Quantity  \\\n",
      "1      2016-01-02         2547               1          X52  0EM7L       1.0   \n",
      "2      2016-01-02          822               2          2ML  68BRQ       1.0   \n",
      "3      2016-01-02         3686               3          0H2  CZUZX       1.0   \n",
      "4      2016-01-02         3719               4          0H2  549KK       1.0   \n",
      "5      2016-01-02         9200               5          0H2  K8EHH       1.0   \n",
      "...           ...          ...             ...          ...    ...       ...   \n",
      "131702 2016-07-04        20203           32900          IEV  FO112       3.0   \n",
      "131703 2016-07-04        20203           32900          N8U  I36F2       1.0   \n",
      "131704 2016-07-04        20203           32900          U5F  4X8P4       1.0   \n",
      "131705 2016-07-04        20203           32900          0H2  ZVTO4       1.0   \n",
      "131706 2016-07-04        20203           32900          Q4N  QM9BP       1.0   \n",
      "\n",
      "        Sales_Amount  \n",
      "1               3.13  \n",
      "2               5.46  \n",
      "3               6.35  \n",
      "4               5.59  \n",
      "5               6.88  \n",
      "...              ...  \n",
      "131702          6.46  \n",
      "131703          4.50  \n",
      "131704          5.19  \n",
      "131705          4.57  \n",
      "131706         13.68  \n",
      "\n",
      "[131706 rows x 7 columns]\n"
     ]
    }
   ],
   "source": [
    "import pandas as pd\n",
    "import numpy as np\n",
    "import time as time\n",
    "from tqdm import tqdm\n",
    "from sklearn import linear_model as lm\n",
    "df = pd.read_csv('./scanner_data.csv', index_col=0) # Tell pandas to ignore index column\n",
    "print(df)\n",
    "# Note: data format is DD/MM/YYYY and starts at 2/1/2016\n",
    "df['Date'] = pd.to_datetime(df['Date'], format='%d/%m/%Y')\n",
    "\n",
    "print(  \"Number of Customer_ID\",    len(pd.unique(df['Customer_ID']))  )\n",
    "print(  \"Number of SKU  \",    len(pd.unique(df['SKU']))  )\n",
    "print(max(df['Date']))\n",
    "print(df)"
   ]
  },
  {
   "cell_type": "markdown",
   "id": "95ca3f70",
   "metadata": {},
   "source": [
    "### Question 2\n",
    "The fact that consumer does not purchase anything can be \n",
    "interpreted as that she chose an outside option. Given that the fact that she chose an outside option is not recorded in this dataset, argue how you would construct a proxi variable for the choice of an outside option. Add such a proxi variable to your dataframe. \n",
    "\n",
    "**Hint:** you can use information that some consumers do not appear in the data every week. "
   ]
  },
  {
   "cell_type": "markdown",
   "id": "fa33658f",
   "metadata": {},
   "source": [
    "**Please input your answer in this cell:**\n",
    "\n",
    "\n"
   ]
  },
  {
   "cell_type": "markdown",
   "id": "04e1c7b2",
   "metadata": {},
   "source": [
    "Add such a proxi variable to your dataframe. \n"
   ]
  },
  {
   "cell_type": "code",
   "execution_count": 14,
   "id": "47e81891",
   "metadata": {
    "scrolled": false
   },
   "outputs": [
    {
     "name": "stdout",
     "output_type": "stream",
     "text": [
      "131706 transactions in original data\n"
     ]
    },
    {
     "name": "stderr",
     "output_type": "stream",
     "text": [
      "100%|███████████████████████████████████████████| 53/53 [00:03<00:00, 14.49it/s]\n",
      "100%|██████████████████████████████████| 5243/5243 [00:00<00:00, 1669759.75it/s]"
     ]
    },
    {
     "name": "stdout",
     "output_type": "stream",
     "text": [
      "188757 transactions after adding outside choices\n"
     ]
    },
    {
     "name": "stderr",
     "output_type": "stream",
     "text": [
      "\n"
     ]
    }
   ],
   "source": [
    "import sys\n",
    "from io import StringIO\n",
    "from csv import writer\n",
    "np.set_printoptions(threshold=1000)\n",
    "\n",
    "\n",
    "df['chose_other'] = 0\n",
    "df['week'] = 0\n",
    "customers = df['Customer_ID'].unique()\n",
    "df2 = df\n",
    "week = 0\n",
    "grouped = df.groupby(pd.Grouper(key='Date', freq='W'))\n",
    "print(len(df), 'transactions in original data')\n",
    "for key, item in tqdm(grouped):\n",
    "    bought_this_week = item['Customer_ID'].unique()\n",
    "    # print('For week starting in', item['Date'].iloc[0])\n",
    "    chose_other = set(customers) - set(bought_this_week) # Finds everyone who didn't buy this week\n",
    "    # print(type(item))\n",
    "    # print(item.loc[len(item.index)-1])\n",
    "    date = item['Date'].iloc[0]\n",
    "    # print(date)\n",
    "    # print(type(date))\n",
    "    # print(len(chose_other), 'chose outside')\n",
    "\n",
    "    num_other = len(chose_other)\n",
    "    other_purchases = pd.DataFrame({'Date': [date for x in range(num_other)],\n",
    "                                    'Customer_ID': [id for id in chose_other],\n",
    "                                    'chose_other': [1 for x in range(num_other)],\n",
    "                                    'SKU': [\"0\" for x in range(num_other)],\n",
    "                                   'week': [week for x in range(num_other)]})\n",
    "    \n",
    "    df2 = pd.concat([df2, other_purchases.sample(frac=0.05)], ignore_index = True, axis=0)\n",
    "    # print(df.iloc[-5:])\n",
    "    \n",
    "    # NOTE: this method probably works, but pd.concat() is much more efficient\n",
    "    # for id in chose_other:\n",
    "    #   df.loc[len(df.index)] = [date, id, None, None, None, None, None, 1, week]\n",
    "    \n",
    "    week += 1 \n",
    " \n",
    "#Filter the data\n",
    "df2 = df2.sort_values(by='SKU')\n",
    "SKUIndices = {}\n",
    "SKU = pd.unique(df2['SKU'])\n",
    "for i in tqdm(range(0,len(SKU))):\n",
    "    SKUIndices[SKU[i]] = i;\n",
    "    \n",
    "customers = pd.unique(df['Customer_ID'])\n",
    "numCust = len(customers)\n",
    "numProd = len(SKU)\n",
    "\n",
    "print(len(df2), 'transactions after adding outside choices')\n",
    "\n",
    "        \n",
    "        "
   ]
  },
  {
   "cell_type": "code",
   "execution_count": null,
   "id": "23f5a906",
   "metadata": {},
   "outputs": [],
   "source": []
  },
  {
   "cell_type": "markdown",
   "id": "6a60b9ef",
   "metadata": {},
   "source": [
    "### Question 3\n",
    "Given that we do not have **explicit** consumer feature vectors $\\mathbf{x}^i = (x^i_1, \\cdots, x_k^i)$  in the data, discuss how you would construct such feature vectors for each consumer $i$ from the given data. Add your constructed characteristics to your dataframe. \n",
    "\n",
    "**Hint:** you can use transaction history and argue that past shopping patterns may give a good characterization for a given consumer."
   ]
  },
  {
   "cell_type": "markdown",
   "id": "7bc09a47",
   "metadata": {},
   "source": [
    "**Please input your answer in this cell:**\n",
    "\n",
    "\n",
    "\n"
   ]
  },
  {
   "cell_type": "markdown",
   "id": "fbc0d2e3",
   "metadata": {},
   "source": [
    "Add your constructed characteristics to your dataframe. "
   ]
  },
  {
   "cell_type": "code",
   "execution_count": 42,
   "id": "fed0c2a6",
   "metadata": {},
   "outputs": [
    {
     "name": "stderr",
     "output_type": "stream",
     "text": [
      "100%|████████████████████████████████████| 22625/22625 [00:47<00:00, 472.52it/s]"
     ]
    },
    {
     "name": "stdout",
     "output_type": "stream",
     "text": [
      "(5243, 1)\n"
     ]
    },
    {
     "name": "stderr",
     "output_type": "stream",
     "text": [
      "\n"
     ]
    }
   ],
   "source": [
    "featureCount = 8\n",
    "custFeatureArr = np.zeros((numCust,featureCount))\n",
    "\n",
    "for i in tqdm(range(numCust)):\n",
    "    # First Organize Data & Calculate Features\n",
    "    transactions = df[df.Customer_ID == customers[i]]\n",
    "    custFeatureArr[i,0] = transactions.Quantity.sum()\n",
    "    custFeatureArr[i,1] = transactions.Sales_Amount.sum()\n",
    "    custFeatureArr[i,2] = custFeatureArr[i,1]/len(transactions.Date.unique())\n",
    "    custFeatureArr[i,3] = len(transactions.Date.unique())\n",
    "    custFeatureArr[i,4] = len(transactions.SKU.unique())\n",
    "    custFeatureArr[i,5] = len(transactions.SKU_Category.unique())\n",
    "    custFeatureArr[i,6] = len(transactions.Date.dt.isocalendar().week.unique())\n",
    "    custFeatureArr[i,7] = 1\n",
    "\n",
    "    \n",
    "custFeatureArr[:,0:7] = (custFeatureArr[:,0:7] - np.mean(custFeatureArr[:,0:7],axis=0))/np.std(custFeatureArr[:,0:7],axis=0)\n",
    "\n",
    "prices = np.zeros((numProd,1))\n",
    "print(prices.shape)\n",
    "prices[:,0] = df2.iloc[np.unique(df2.SKU.values,return_index=True)[1]].Sales_Amount / df2.iloc[np.unique(df2.SKU.values,return_index=True)[1]].Quantity\n",
    "prices[0,0] = 0\n",
    "\n",
    "prices[:,:] = (prices[:,:] - np.mean(prices[:,:],axis=0))/np.std(prices[:,:],axis=0)\n",
    "    "
   ]
  },
  {
   "cell_type": "code",
   "execution_count": 135,
   "id": "af0f1b62",
   "metadata": {},
   "outputs": [],
   "source": [
    "prices[:,:] = (prices[:,:] - np.mean(prices[:,:],axis=0))/np.std(prices[:,:],axis=0)"
   ]
  },
  {
   "cell_type": "markdown",
   "id": "caa79024",
   "metadata": {},
   "source": [
    "### Question 4\n",
    "Produce the utility parameters $\\beta_{0j}, \\beta_{1j},\\cdots \\beta_{kj}$ and $\\alpha_j$ for every product $j$  by estimating a multinomial \n",
    "logit model from your constructed dataset."
   ]
  },
  {
   "cell_type": "code",
   "execution_count": 232,
   "id": "f4c8924c",
   "metadata": {},
   "outputs": [
    {
     "name": "stderr",
     "output_type": "stream",
     "text": [
      "100%|███████████████████████████████| 188757/188757 [00:00<00:00, 438249.95it/s]\n"
     ]
    },
    {
     "ename": "KeyboardInterrupt",
     "evalue": "",
     "output_type": "error",
     "traceback": [
      "\u001b[0;31m---------------------------------------------------------------------------\u001b[0m",
      "\u001b[0;31mKeyboardInterrupt\u001b[0m                         Traceback (most recent call last)",
      "\u001b[0;32m/var/folders/bv/n177p7rs6039v5q0msyhqw8c0000gn/T/ipykernel_15851/3318262050.py\u001b[0m in \u001b[0;36m<module>\u001b[0;34m\u001b[0m\n\u001b[1;32m     25\u001b[0m \u001b[0;34m\u001b[0m\u001b[0m\n\u001b[1;32m     26\u001b[0m \u001b[0mtic\u001b[0m \u001b[0;34m=\u001b[0m \u001b[0mtime\u001b[0m\u001b[0;34m.\u001b[0m\u001b[0mtime\u001b[0m\u001b[0;34m(\u001b[0m\u001b[0;34m)\u001b[0m\u001b[0;34m\u001b[0m\u001b[0;34m\u001b[0m\u001b[0m\n\u001b[0;32m---> 27\u001b[0;31m \u001b[0mmodel\u001b[0m \u001b[0;34m=\u001b[0m \u001b[0mlm\u001b[0m\u001b[0;34m.\u001b[0m\u001b[0mLogisticRegression\u001b[0m\u001b[0;34m(\u001b[0m\u001b[0;34m)\u001b[0m\u001b[0;34m.\u001b[0m\u001b[0mfit\u001b[0m\u001b[0;34m(\u001b[0m\u001b[0mX\u001b[0m\u001b[0;34m[\u001b[0m\u001b[0;36m0\u001b[0m\u001b[0;34m:\u001b[0m\u001b[0mtrain\u001b[0m\u001b[0;34m,\u001b[0m\u001b[0;34m:\u001b[0m\u001b[0;34m]\u001b[0m\u001b[0;34m,\u001b[0m \u001b[0my\u001b[0m\u001b[0;34m[\u001b[0m\u001b[0;36m0\u001b[0m\u001b[0;34m:\u001b[0m\u001b[0mtrain\u001b[0m\u001b[0;34m]\u001b[0m\u001b[0;34m)\u001b[0m\u001b[0;34m\u001b[0m\u001b[0;34m\u001b[0m\u001b[0m\n\u001b[0m\u001b[1;32m     28\u001b[0m \u001b[0mprint\u001b[0m\u001b[0;34m(\u001b[0m\u001b[0mtime\u001b[0m\u001b[0;34m.\u001b[0m\u001b[0mtime\u001b[0m\u001b[0;34m(\u001b[0m\u001b[0;34m)\u001b[0m \u001b[0;34m-\u001b[0m \u001b[0mtic\u001b[0m\u001b[0;34m)\u001b[0m\u001b[0;34m\u001b[0m\u001b[0;34m\u001b[0m\u001b[0m\n\u001b[1;32m     29\u001b[0m \u001b[0;34m\u001b[0m\u001b[0m\n",
      "\u001b[0;32m/Library/Frameworks/Python.framework/Versions/3.9/lib/python3.9/site-packages/sklearn/linear_model/_logistic.py\u001b[0m in \u001b[0;36mfit\u001b[0;34m(self, X, y, sample_weight)\u001b[0m\n\u001b[1;32m   1587\u001b[0m         \u001b[0;32melse\u001b[0m\u001b[0;34m:\u001b[0m\u001b[0;34m\u001b[0m\u001b[0;34m\u001b[0m\u001b[0m\n\u001b[1;32m   1588\u001b[0m             \u001b[0mprefer\u001b[0m \u001b[0;34m=\u001b[0m \u001b[0;34m\"processes\"\u001b[0m\u001b[0;34m\u001b[0m\u001b[0;34m\u001b[0m\u001b[0m\n\u001b[0;32m-> 1589\u001b[0;31m         fold_coefs_ = Parallel(\n\u001b[0m\u001b[1;32m   1590\u001b[0m             \u001b[0mn_jobs\u001b[0m\u001b[0;34m=\u001b[0m\u001b[0mself\u001b[0m\u001b[0;34m.\u001b[0m\u001b[0mn_jobs\u001b[0m\u001b[0;34m,\u001b[0m\u001b[0;34m\u001b[0m\u001b[0;34m\u001b[0m\u001b[0m\n\u001b[1;32m   1591\u001b[0m             \u001b[0mverbose\u001b[0m\u001b[0;34m=\u001b[0m\u001b[0mself\u001b[0m\u001b[0;34m.\u001b[0m\u001b[0mverbose\u001b[0m\u001b[0;34m,\u001b[0m\u001b[0;34m\u001b[0m\u001b[0;34m\u001b[0m\u001b[0m\n",
      "\u001b[0;32m/Library/Frameworks/Python.framework/Versions/3.9/lib/python3.9/site-packages/joblib/parallel.py\u001b[0m in \u001b[0;36m__call__\u001b[0;34m(self, iterable)\u001b[0m\n\u001b[1;32m   1041\u001b[0m             \u001b[0;31m# remaining jobs.\u001b[0m\u001b[0;34m\u001b[0m\u001b[0;34m\u001b[0m\u001b[0m\n\u001b[1;32m   1042\u001b[0m             \u001b[0mself\u001b[0m\u001b[0;34m.\u001b[0m\u001b[0m_iterating\u001b[0m \u001b[0;34m=\u001b[0m \u001b[0;32mFalse\u001b[0m\u001b[0;34m\u001b[0m\u001b[0;34m\u001b[0m\u001b[0m\n\u001b[0;32m-> 1043\u001b[0;31m             \u001b[0;32mif\u001b[0m \u001b[0mself\u001b[0m\u001b[0;34m.\u001b[0m\u001b[0mdispatch_one_batch\u001b[0m\u001b[0;34m(\u001b[0m\u001b[0miterator\u001b[0m\u001b[0;34m)\u001b[0m\u001b[0;34m:\u001b[0m\u001b[0;34m\u001b[0m\u001b[0;34m\u001b[0m\u001b[0m\n\u001b[0m\u001b[1;32m   1044\u001b[0m                 \u001b[0mself\u001b[0m\u001b[0;34m.\u001b[0m\u001b[0m_iterating\u001b[0m \u001b[0;34m=\u001b[0m \u001b[0mself\u001b[0m\u001b[0;34m.\u001b[0m\u001b[0m_original_iterator\u001b[0m \u001b[0;32mis\u001b[0m \u001b[0;32mnot\u001b[0m \u001b[0;32mNone\u001b[0m\u001b[0;34m\u001b[0m\u001b[0;34m\u001b[0m\u001b[0m\n\u001b[1;32m   1045\u001b[0m \u001b[0;34m\u001b[0m\u001b[0m\n",
      "\u001b[0;32m/Library/Frameworks/Python.framework/Versions/3.9/lib/python3.9/site-packages/joblib/parallel.py\u001b[0m in \u001b[0;36mdispatch_one_batch\u001b[0;34m(self, iterator)\u001b[0m\n\u001b[1;32m    859\u001b[0m                 \u001b[0;32mreturn\u001b[0m \u001b[0;32mFalse\u001b[0m\u001b[0;34m\u001b[0m\u001b[0;34m\u001b[0m\u001b[0m\n\u001b[1;32m    860\u001b[0m             \u001b[0;32melse\u001b[0m\u001b[0;34m:\u001b[0m\u001b[0;34m\u001b[0m\u001b[0;34m\u001b[0m\u001b[0m\n\u001b[0;32m--> 861\u001b[0;31m                 \u001b[0mself\u001b[0m\u001b[0;34m.\u001b[0m\u001b[0m_dispatch\u001b[0m\u001b[0;34m(\u001b[0m\u001b[0mtasks\u001b[0m\u001b[0;34m)\u001b[0m\u001b[0;34m\u001b[0m\u001b[0;34m\u001b[0m\u001b[0m\n\u001b[0m\u001b[1;32m    862\u001b[0m                 \u001b[0;32mreturn\u001b[0m \u001b[0;32mTrue\u001b[0m\u001b[0;34m\u001b[0m\u001b[0;34m\u001b[0m\u001b[0m\n\u001b[1;32m    863\u001b[0m \u001b[0;34m\u001b[0m\u001b[0m\n",
      "\u001b[0;32m/Library/Frameworks/Python.framework/Versions/3.9/lib/python3.9/site-packages/joblib/parallel.py\u001b[0m in \u001b[0;36m_dispatch\u001b[0;34m(self, batch)\u001b[0m\n\u001b[1;32m    777\u001b[0m         \u001b[0;32mwith\u001b[0m \u001b[0mself\u001b[0m\u001b[0;34m.\u001b[0m\u001b[0m_lock\u001b[0m\u001b[0;34m:\u001b[0m\u001b[0;34m\u001b[0m\u001b[0;34m\u001b[0m\u001b[0m\n\u001b[1;32m    778\u001b[0m             \u001b[0mjob_idx\u001b[0m \u001b[0;34m=\u001b[0m \u001b[0mlen\u001b[0m\u001b[0;34m(\u001b[0m\u001b[0mself\u001b[0m\u001b[0;34m.\u001b[0m\u001b[0m_jobs\u001b[0m\u001b[0;34m)\u001b[0m\u001b[0;34m\u001b[0m\u001b[0;34m\u001b[0m\u001b[0m\n\u001b[0;32m--> 779\u001b[0;31m             \u001b[0mjob\u001b[0m \u001b[0;34m=\u001b[0m \u001b[0mself\u001b[0m\u001b[0;34m.\u001b[0m\u001b[0m_backend\u001b[0m\u001b[0;34m.\u001b[0m\u001b[0mapply_async\u001b[0m\u001b[0;34m(\u001b[0m\u001b[0mbatch\u001b[0m\u001b[0;34m,\u001b[0m \u001b[0mcallback\u001b[0m\u001b[0;34m=\u001b[0m\u001b[0mcb\u001b[0m\u001b[0;34m)\u001b[0m\u001b[0;34m\u001b[0m\u001b[0;34m\u001b[0m\u001b[0m\n\u001b[0m\u001b[1;32m    780\u001b[0m             \u001b[0;31m# A job can complete so quickly than its callback is\u001b[0m\u001b[0;34m\u001b[0m\u001b[0;34m\u001b[0m\u001b[0m\n\u001b[1;32m    781\u001b[0m             \u001b[0;31m# called before we get here, causing self._jobs to\u001b[0m\u001b[0;34m\u001b[0m\u001b[0;34m\u001b[0m\u001b[0m\n",
      "\u001b[0;32m/Library/Frameworks/Python.framework/Versions/3.9/lib/python3.9/site-packages/joblib/_parallel_backends.py\u001b[0m in \u001b[0;36mapply_async\u001b[0;34m(self, func, callback)\u001b[0m\n\u001b[1;32m    206\u001b[0m     \u001b[0;32mdef\u001b[0m \u001b[0mapply_async\u001b[0m\u001b[0;34m(\u001b[0m\u001b[0mself\u001b[0m\u001b[0;34m,\u001b[0m \u001b[0mfunc\u001b[0m\u001b[0;34m,\u001b[0m \u001b[0mcallback\u001b[0m\u001b[0;34m=\u001b[0m\u001b[0;32mNone\u001b[0m\u001b[0;34m)\u001b[0m\u001b[0;34m:\u001b[0m\u001b[0;34m\u001b[0m\u001b[0;34m\u001b[0m\u001b[0m\n\u001b[1;32m    207\u001b[0m         \u001b[0;34m\"\"\"Schedule a func to be run\"\"\"\u001b[0m\u001b[0;34m\u001b[0m\u001b[0;34m\u001b[0m\u001b[0m\n\u001b[0;32m--> 208\u001b[0;31m         \u001b[0mresult\u001b[0m \u001b[0;34m=\u001b[0m \u001b[0mImmediateResult\u001b[0m\u001b[0;34m(\u001b[0m\u001b[0mfunc\u001b[0m\u001b[0;34m)\u001b[0m\u001b[0;34m\u001b[0m\u001b[0;34m\u001b[0m\u001b[0m\n\u001b[0m\u001b[1;32m    209\u001b[0m         \u001b[0;32mif\u001b[0m \u001b[0mcallback\u001b[0m\u001b[0;34m:\u001b[0m\u001b[0;34m\u001b[0m\u001b[0;34m\u001b[0m\u001b[0m\n\u001b[1;32m    210\u001b[0m             \u001b[0mcallback\u001b[0m\u001b[0;34m(\u001b[0m\u001b[0mresult\u001b[0m\u001b[0;34m)\u001b[0m\u001b[0;34m\u001b[0m\u001b[0;34m\u001b[0m\u001b[0m\n",
      "\u001b[0;32m/Library/Frameworks/Python.framework/Versions/3.9/lib/python3.9/site-packages/joblib/_parallel_backends.py\u001b[0m in \u001b[0;36m__init__\u001b[0;34m(self, batch)\u001b[0m\n\u001b[1;32m    570\u001b[0m         \u001b[0;31m# Don't delay the application, to avoid keeping the input\u001b[0m\u001b[0;34m\u001b[0m\u001b[0;34m\u001b[0m\u001b[0m\n\u001b[1;32m    571\u001b[0m         \u001b[0;31m# arguments in memory\u001b[0m\u001b[0;34m\u001b[0m\u001b[0;34m\u001b[0m\u001b[0m\n\u001b[0;32m--> 572\u001b[0;31m         \u001b[0mself\u001b[0m\u001b[0;34m.\u001b[0m\u001b[0mresults\u001b[0m \u001b[0;34m=\u001b[0m \u001b[0mbatch\u001b[0m\u001b[0;34m(\u001b[0m\u001b[0;34m)\u001b[0m\u001b[0;34m\u001b[0m\u001b[0;34m\u001b[0m\u001b[0m\n\u001b[0m\u001b[1;32m    573\u001b[0m \u001b[0;34m\u001b[0m\u001b[0m\n\u001b[1;32m    574\u001b[0m     \u001b[0;32mdef\u001b[0m \u001b[0mget\u001b[0m\u001b[0;34m(\u001b[0m\u001b[0mself\u001b[0m\u001b[0;34m)\u001b[0m\u001b[0;34m:\u001b[0m\u001b[0;34m\u001b[0m\u001b[0;34m\u001b[0m\u001b[0m\n",
      "\u001b[0;32m/Library/Frameworks/Python.framework/Versions/3.9/lib/python3.9/site-packages/joblib/parallel.py\u001b[0m in \u001b[0;36m__call__\u001b[0;34m(self)\u001b[0m\n\u001b[1;32m    260\u001b[0m         \u001b[0;31m# change the default number of processes to -1\u001b[0m\u001b[0;34m\u001b[0m\u001b[0;34m\u001b[0m\u001b[0m\n\u001b[1;32m    261\u001b[0m         \u001b[0;32mwith\u001b[0m \u001b[0mparallel_backend\u001b[0m\u001b[0;34m(\u001b[0m\u001b[0mself\u001b[0m\u001b[0;34m.\u001b[0m\u001b[0m_backend\u001b[0m\u001b[0;34m,\u001b[0m \u001b[0mn_jobs\u001b[0m\u001b[0;34m=\u001b[0m\u001b[0mself\u001b[0m\u001b[0;34m.\u001b[0m\u001b[0m_n_jobs\u001b[0m\u001b[0;34m)\u001b[0m\u001b[0;34m:\u001b[0m\u001b[0;34m\u001b[0m\u001b[0;34m\u001b[0m\u001b[0m\n\u001b[0;32m--> 262\u001b[0;31m             return [func(*args, **kwargs)\n\u001b[0m\u001b[1;32m    263\u001b[0m                     for func, args, kwargs in self.items]\n\u001b[1;32m    264\u001b[0m \u001b[0;34m\u001b[0m\u001b[0m\n",
      "\u001b[0;32m/Library/Frameworks/Python.framework/Versions/3.9/lib/python3.9/site-packages/joblib/parallel.py\u001b[0m in \u001b[0;36m<listcomp>\u001b[0;34m(.0)\u001b[0m\n\u001b[1;32m    260\u001b[0m         \u001b[0;31m# change the default number of processes to -1\u001b[0m\u001b[0;34m\u001b[0m\u001b[0;34m\u001b[0m\u001b[0m\n\u001b[1;32m    261\u001b[0m         \u001b[0;32mwith\u001b[0m \u001b[0mparallel_backend\u001b[0m\u001b[0;34m(\u001b[0m\u001b[0mself\u001b[0m\u001b[0;34m.\u001b[0m\u001b[0m_backend\u001b[0m\u001b[0;34m,\u001b[0m \u001b[0mn_jobs\u001b[0m\u001b[0;34m=\u001b[0m\u001b[0mself\u001b[0m\u001b[0;34m.\u001b[0m\u001b[0m_n_jobs\u001b[0m\u001b[0;34m)\u001b[0m\u001b[0;34m:\u001b[0m\u001b[0;34m\u001b[0m\u001b[0;34m\u001b[0m\u001b[0m\n\u001b[0;32m--> 262\u001b[0;31m             return [func(*args, **kwargs)\n\u001b[0m\u001b[1;32m    263\u001b[0m                     for func, args, kwargs in self.items]\n\u001b[1;32m    264\u001b[0m \u001b[0;34m\u001b[0m\u001b[0m\n",
      "\u001b[0;32m/Library/Frameworks/Python.framework/Versions/3.9/lib/python3.9/site-packages/sklearn/utils/fixes.py\u001b[0m in \u001b[0;36m__call__\u001b[0;34m(self, *args, **kwargs)\u001b[0m\n\u001b[1;32m    214\u001b[0m     \u001b[0;32mdef\u001b[0m \u001b[0m__call__\u001b[0m\u001b[0;34m(\u001b[0m\u001b[0mself\u001b[0m\u001b[0;34m,\u001b[0m \u001b[0;34m*\u001b[0m\u001b[0margs\u001b[0m\u001b[0;34m,\u001b[0m \u001b[0;34m**\u001b[0m\u001b[0mkwargs\u001b[0m\u001b[0;34m)\u001b[0m\u001b[0;34m:\u001b[0m\u001b[0;34m\u001b[0m\u001b[0;34m\u001b[0m\u001b[0m\n\u001b[1;32m    215\u001b[0m         \u001b[0;32mwith\u001b[0m \u001b[0mconfig_context\u001b[0m\u001b[0;34m(\u001b[0m\u001b[0;34m**\u001b[0m\u001b[0mself\u001b[0m\u001b[0;34m.\u001b[0m\u001b[0mconfig\u001b[0m\u001b[0;34m)\u001b[0m\u001b[0;34m:\u001b[0m\u001b[0;34m\u001b[0m\u001b[0;34m\u001b[0m\u001b[0m\n\u001b[0;32m--> 216\u001b[0;31m             \u001b[0;32mreturn\u001b[0m \u001b[0mself\u001b[0m\u001b[0;34m.\u001b[0m\u001b[0mfunction\u001b[0m\u001b[0;34m(\u001b[0m\u001b[0;34m*\u001b[0m\u001b[0margs\u001b[0m\u001b[0;34m,\u001b[0m \u001b[0;34m**\u001b[0m\u001b[0mkwargs\u001b[0m\u001b[0;34m)\u001b[0m\u001b[0;34m\u001b[0m\u001b[0;34m\u001b[0m\u001b[0m\n\u001b[0m\u001b[1;32m    217\u001b[0m \u001b[0;34m\u001b[0m\u001b[0m\n\u001b[1;32m    218\u001b[0m \u001b[0;34m\u001b[0m\u001b[0m\n",
      "\u001b[0;32m/Library/Frameworks/Python.framework/Versions/3.9/lib/python3.9/site-packages/sklearn/linear_model/_logistic.py\u001b[0m in \u001b[0;36m_logistic_regression_path\u001b[0;34m(X, y, pos_class, Cs, fit_intercept, max_iter, tol, verbose, solver, coef, class_weight, dual, penalty, intercept_scaling, multi_class, random_state, check_input, max_squared_sum, sample_weight, l1_ratio)\u001b[0m\n\u001b[1;32m    804\u001b[0m                 \u001b[0mnp\u001b[0m\u001b[0;34m.\u001b[0m\u001b[0msearchsorted\u001b[0m\u001b[0;34m(\u001b[0m\u001b[0mnp\u001b[0m\u001b[0;34m.\u001b[0m\u001b[0marray\u001b[0m\u001b[0;34m(\u001b[0m\u001b[0;34m[\u001b[0m\u001b[0;36m0\u001b[0m\u001b[0;34m,\u001b[0m \u001b[0;36m1\u001b[0m\u001b[0;34m,\u001b[0m \u001b[0;36m2\u001b[0m\u001b[0;34m,\u001b[0m \u001b[0;36m3\u001b[0m\u001b[0;34m]\u001b[0m\u001b[0;34m)\u001b[0m\u001b[0;34m,\u001b[0m \u001b[0mverbose\u001b[0m\u001b[0;34m)\u001b[0m\u001b[0;34m\u001b[0m\u001b[0;34m\u001b[0m\u001b[0m\n\u001b[1;32m    805\u001b[0m             ]\n\u001b[0;32m--> 806\u001b[0;31m             opt_res = optimize.minimize(\n\u001b[0m\u001b[1;32m    807\u001b[0m                 \u001b[0mfunc\u001b[0m\u001b[0;34m,\u001b[0m\u001b[0;34m\u001b[0m\u001b[0;34m\u001b[0m\u001b[0m\n\u001b[1;32m    808\u001b[0m                 \u001b[0mw0\u001b[0m\u001b[0;34m,\u001b[0m\u001b[0;34m\u001b[0m\u001b[0;34m\u001b[0m\u001b[0m\n",
      "\u001b[0;32m/Library/Frameworks/Python.framework/Versions/3.9/lib/python3.9/site-packages/scipy/optimize/_minimize.py\u001b[0m in \u001b[0;36mminimize\u001b[0;34m(fun, x0, args, method, jac, hess, hessp, bounds, constraints, tol, callback, options)\u001b[0m\n\u001b[1;32m    679\u001b[0m                                  **options)\n\u001b[1;32m    680\u001b[0m     \u001b[0;32melif\u001b[0m \u001b[0mmeth\u001b[0m \u001b[0;34m==\u001b[0m \u001b[0;34m'l-bfgs-b'\u001b[0m\u001b[0;34m:\u001b[0m\u001b[0;34m\u001b[0m\u001b[0;34m\u001b[0m\u001b[0m\n\u001b[0;32m--> 681\u001b[0;31m         res = _minimize_lbfgsb(fun, x0, args, jac, bounds,\n\u001b[0m\u001b[1;32m    682\u001b[0m                                callback=callback, **options)\n\u001b[1;32m    683\u001b[0m     \u001b[0;32melif\u001b[0m \u001b[0mmeth\u001b[0m \u001b[0;34m==\u001b[0m \u001b[0;34m'tnc'\u001b[0m\u001b[0;34m:\u001b[0m\u001b[0;34m\u001b[0m\u001b[0;34m\u001b[0m\u001b[0m\n",
      "\u001b[0;32m/Library/Frameworks/Python.framework/Versions/3.9/lib/python3.9/site-packages/scipy/optimize/_lbfgsb_py.py\u001b[0m in \u001b[0;36m_minimize_lbfgsb\u001b[0;34m(fun, x0, args, jac, bounds, disp, maxcor, ftol, gtol, eps, maxfun, maxiter, iprint, callback, maxls, finite_diff_rel_step, **unknown_options)\u001b[0m\n\u001b[1;32m    360\u001b[0m             \u001b[0;31m# until the completion of the current minimization iteration.\u001b[0m\u001b[0;34m\u001b[0m\u001b[0;34m\u001b[0m\u001b[0m\n\u001b[1;32m    361\u001b[0m             \u001b[0;31m# Overwrite f and g:\u001b[0m\u001b[0;34m\u001b[0m\u001b[0;34m\u001b[0m\u001b[0m\n\u001b[0;32m--> 362\u001b[0;31m             \u001b[0mf\u001b[0m\u001b[0;34m,\u001b[0m \u001b[0mg\u001b[0m \u001b[0;34m=\u001b[0m \u001b[0mfunc_and_grad\u001b[0m\u001b[0;34m(\u001b[0m\u001b[0mx\u001b[0m\u001b[0;34m)\u001b[0m\u001b[0;34m\u001b[0m\u001b[0;34m\u001b[0m\u001b[0m\n\u001b[0m\u001b[1;32m    363\u001b[0m         \u001b[0;32melif\u001b[0m \u001b[0mtask_str\u001b[0m\u001b[0;34m.\u001b[0m\u001b[0mstartswith\u001b[0m\u001b[0;34m(\u001b[0m\u001b[0;34mb'NEW_X'\u001b[0m\u001b[0;34m)\u001b[0m\u001b[0;34m:\u001b[0m\u001b[0;34m\u001b[0m\u001b[0;34m\u001b[0m\u001b[0m\n\u001b[1;32m    364\u001b[0m             \u001b[0;31m# new iteration\u001b[0m\u001b[0;34m\u001b[0m\u001b[0;34m\u001b[0m\u001b[0m\n",
      "\u001b[0;32m/Library/Frameworks/Python.framework/Versions/3.9/lib/python3.9/site-packages/scipy/optimize/_differentiable_functions.py\u001b[0m in \u001b[0;36mfun_and_grad\u001b[0;34m(self, x)\u001b[0m\n\u001b[1;32m    283\u001b[0m         \u001b[0;32mif\u001b[0m \u001b[0;32mnot\u001b[0m \u001b[0mnp\u001b[0m\u001b[0;34m.\u001b[0m\u001b[0marray_equal\u001b[0m\u001b[0;34m(\u001b[0m\u001b[0mx\u001b[0m\u001b[0;34m,\u001b[0m \u001b[0mself\u001b[0m\u001b[0;34m.\u001b[0m\u001b[0mx\u001b[0m\u001b[0;34m)\u001b[0m\u001b[0;34m:\u001b[0m\u001b[0;34m\u001b[0m\u001b[0;34m\u001b[0m\u001b[0m\n\u001b[1;32m    284\u001b[0m             \u001b[0mself\u001b[0m\u001b[0;34m.\u001b[0m\u001b[0m_update_x_impl\u001b[0m\u001b[0;34m(\u001b[0m\u001b[0mx\u001b[0m\u001b[0;34m)\u001b[0m\u001b[0;34m\u001b[0m\u001b[0;34m\u001b[0m\u001b[0m\n\u001b[0;32m--> 285\u001b[0;31m         \u001b[0mself\u001b[0m\u001b[0;34m.\u001b[0m\u001b[0m_update_fun\u001b[0m\u001b[0;34m(\u001b[0m\u001b[0;34m)\u001b[0m\u001b[0;34m\u001b[0m\u001b[0;34m\u001b[0m\u001b[0m\n\u001b[0m\u001b[1;32m    286\u001b[0m         \u001b[0mself\u001b[0m\u001b[0;34m.\u001b[0m\u001b[0m_update_grad\u001b[0m\u001b[0;34m(\u001b[0m\u001b[0;34m)\u001b[0m\u001b[0;34m\u001b[0m\u001b[0;34m\u001b[0m\u001b[0m\n\u001b[1;32m    287\u001b[0m         \u001b[0;32mreturn\u001b[0m \u001b[0mself\u001b[0m\u001b[0;34m.\u001b[0m\u001b[0mf\u001b[0m\u001b[0;34m,\u001b[0m \u001b[0mself\u001b[0m\u001b[0;34m.\u001b[0m\u001b[0mg\u001b[0m\u001b[0;34m\u001b[0m\u001b[0;34m\u001b[0m\u001b[0m\n",
      "\u001b[0;32m/Library/Frameworks/Python.framework/Versions/3.9/lib/python3.9/site-packages/scipy/optimize/_differentiable_functions.py\u001b[0m in \u001b[0;36m_update_fun\u001b[0;34m(self)\u001b[0m\n\u001b[1;32m    249\u001b[0m     \u001b[0;32mdef\u001b[0m \u001b[0m_update_fun\u001b[0m\u001b[0;34m(\u001b[0m\u001b[0mself\u001b[0m\u001b[0;34m)\u001b[0m\u001b[0;34m:\u001b[0m\u001b[0;34m\u001b[0m\u001b[0;34m\u001b[0m\u001b[0m\n\u001b[1;32m    250\u001b[0m         \u001b[0;32mif\u001b[0m \u001b[0;32mnot\u001b[0m \u001b[0mself\u001b[0m\u001b[0;34m.\u001b[0m\u001b[0mf_updated\u001b[0m\u001b[0;34m:\u001b[0m\u001b[0;34m\u001b[0m\u001b[0;34m\u001b[0m\u001b[0m\n\u001b[0;32m--> 251\u001b[0;31m             \u001b[0mself\u001b[0m\u001b[0;34m.\u001b[0m\u001b[0m_update_fun_impl\u001b[0m\u001b[0;34m(\u001b[0m\u001b[0;34m)\u001b[0m\u001b[0;34m\u001b[0m\u001b[0;34m\u001b[0m\u001b[0m\n\u001b[0m\u001b[1;32m    252\u001b[0m             \u001b[0mself\u001b[0m\u001b[0;34m.\u001b[0m\u001b[0mf_updated\u001b[0m \u001b[0;34m=\u001b[0m \u001b[0;32mTrue\u001b[0m\u001b[0;34m\u001b[0m\u001b[0;34m\u001b[0m\u001b[0m\n\u001b[1;32m    253\u001b[0m \u001b[0;34m\u001b[0m\u001b[0m\n",
      "\u001b[0;32m/Library/Frameworks/Python.framework/Versions/3.9/lib/python3.9/site-packages/scipy/optimize/_differentiable_functions.py\u001b[0m in \u001b[0;36mupdate_fun\u001b[0;34m()\u001b[0m\n\u001b[1;32m    153\u001b[0m \u001b[0;34m\u001b[0m\u001b[0m\n\u001b[1;32m    154\u001b[0m         \u001b[0;32mdef\u001b[0m \u001b[0mupdate_fun\u001b[0m\u001b[0;34m(\u001b[0m\u001b[0;34m)\u001b[0m\u001b[0;34m:\u001b[0m\u001b[0;34m\u001b[0m\u001b[0;34m\u001b[0m\u001b[0m\n\u001b[0;32m--> 155\u001b[0;31m             \u001b[0mself\u001b[0m\u001b[0;34m.\u001b[0m\u001b[0mf\u001b[0m \u001b[0;34m=\u001b[0m \u001b[0mfun_wrapped\u001b[0m\u001b[0;34m(\u001b[0m\u001b[0mself\u001b[0m\u001b[0;34m.\u001b[0m\u001b[0mx\u001b[0m\u001b[0;34m)\u001b[0m\u001b[0;34m\u001b[0m\u001b[0;34m\u001b[0m\u001b[0m\n\u001b[0m\u001b[1;32m    156\u001b[0m \u001b[0;34m\u001b[0m\u001b[0m\n\u001b[1;32m    157\u001b[0m         \u001b[0mself\u001b[0m\u001b[0;34m.\u001b[0m\u001b[0m_update_fun_impl\u001b[0m \u001b[0;34m=\u001b[0m \u001b[0mupdate_fun\u001b[0m\u001b[0;34m\u001b[0m\u001b[0;34m\u001b[0m\u001b[0m\n",
      "\u001b[0;32m/Library/Frameworks/Python.framework/Versions/3.9/lib/python3.9/site-packages/scipy/optimize/_differentiable_functions.py\u001b[0m in \u001b[0;36mfun_wrapped\u001b[0;34m(x)\u001b[0m\n\u001b[1;32m    135\u001b[0m             \u001b[0;31m# Overwriting results in undefined behaviour because\u001b[0m\u001b[0;34m\u001b[0m\u001b[0;34m\u001b[0m\u001b[0m\n\u001b[1;32m    136\u001b[0m             \u001b[0;31m# fun(self.x) will change self.x, with the two no longer linked.\u001b[0m\u001b[0;34m\u001b[0m\u001b[0;34m\u001b[0m\u001b[0m\n\u001b[0;32m--> 137\u001b[0;31m             \u001b[0mfx\u001b[0m \u001b[0;34m=\u001b[0m \u001b[0mfun\u001b[0m\u001b[0;34m(\u001b[0m\u001b[0mnp\u001b[0m\u001b[0;34m.\u001b[0m\u001b[0mcopy\u001b[0m\u001b[0;34m(\u001b[0m\u001b[0mx\u001b[0m\u001b[0;34m)\u001b[0m\u001b[0;34m,\u001b[0m \u001b[0;34m*\u001b[0m\u001b[0margs\u001b[0m\u001b[0;34m)\u001b[0m\u001b[0;34m\u001b[0m\u001b[0;34m\u001b[0m\u001b[0m\n\u001b[0m\u001b[1;32m    138\u001b[0m             \u001b[0;31m# Make sure the function returns a true scalar\u001b[0m\u001b[0;34m\u001b[0m\u001b[0;34m\u001b[0m\u001b[0m\n\u001b[1;32m    139\u001b[0m             \u001b[0;32mif\u001b[0m \u001b[0;32mnot\u001b[0m \u001b[0mnp\u001b[0m\u001b[0;34m.\u001b[0m\u001b[0misscalar\u001b[0m\u001b[0;34m(\u001b[0m\u001b[0mfx\u001b[0m\u001b[0;34m)\u001b[0m\u001b[0;34m:\u001b[0m\u001b[0;34m\u001b[0m\u001b[0;34m\u001b[0m\u001b[0m\n",
      "\u001b[0;32m/Library/Frameworks/Python.framework/Versions/3.9/lib/python3.9/site-packages/scipy/optimize/_optimize.py\u001b[0m in \u001b[0;36m__call__\u001b[0;34m(self, x, *args)\u001b[0m\n\u001b[1;32m     74\u001b[0m     \u001b[0;32mdef\u001b[0m \u001b[0m__call__\u001b[0m\u001b[0;34m(\u001b[0m\u001b[0mself\u001b[0m\u001b[0;34m,\u001b[0m \u001b[0mx\u001b[0m\u001b[0;34m,\u001b[0m \u001b[0;34m*\u001b[0m\u001b[0margs\u001b[0m\u001b[0;34m)\u001b[0m\u001b[0;34m:\u001b[0m\u001b[0;34m\u001b[0m\u001b[0;34m\u001b[0m\u001b[0m\n\u001b[1;32m     75\u001b[0m         \u001b[0;34m\"\"\" returns the the function value \"\"\"\u001b[0m\u001b[0;34m\u001b[0m\u001b[0;34m\u001b[0m\u001b[0m\n\u001b[0;32m---> 76\u001b[0;31m         \u001b[0mself\u001b[0m\u001b[0;34m.\u001b[0m\u001b[0m_compute_if_needed\u001b[0m\u001b[0;34m(\u001b[0m\u001b[0mx\u001b[0m\u001b[0;34m,\u001b[0m \u001b[0;34m*\u001b[0m\u001b[0margs\u001b[0m\u001b[0;34m)\u001b[0m\u001b[0;34m\u001b[0m\u001b[0;34m\u001b[0m\u001b[0m\n\u001b[0m\u001b[1;32m     77\u001b[0m         \u001b[0;32mreturn\u001b[0m \u001b[0mself\u001b[0m\u001b[0;34m.\u001b[0m\u001b[0m_value\u001b[0m\u001b[0;34m\u001b[0m\u001b[0;34m\u001b[0m\u001b[0m\n\u001b[1;32m     78\u001b[0m \u001b[0;34m\u001b[0m\u001b[0m\n",
      "\u001b[0;32m/Library/Frameworks/Python.framework/Versions/3.9/lib/python3.9/site-packages/scipy/optimize/_optimize.py\u001b[0m in \u001b[0;36m_compute_if_needed\u001b[0;34m(self, x, *args)\u001b[0m\n\u001b[1;32m     68\u001b[0m         \u001b[0;32mif\u001b[0m \u001b[0;32mnot\u001b[0m \u001b[0mnp\u001b[0m\u001b[0;34m.\u001b[0m\u001b[0mall\u001b[0m\u001b[0;34m(\u001b[0m\u001b[0mx\u001b[0m \u001b[0;34m==\u001b[0m \u001b[0mself\u001b[0m\u001b[0;34m.\u001b[0m\u001b[0mx\u001b[0m\u001b[0;34m)\u001b[0m \u001b[0;32mor\u001b[0m \u001b[0mself\u001b[0m\u001b[0;34m.\u001b[0m\u001b[0m_value\u001b[0m \u001b[0;32mis\u001b[0m \u001b[0;32mNone\u001b[0m \u001b[0;32mor\u001b[0m \u001b[0mself\u001b[0m\u001b[0;34m.\u001b[0m\u001b[0mjac\u001b[0m \u001b[0;32mis\u001b[0m \u001b[0;32mNone\u001b[0m\u001b[0;34m:\u001b[0m\u001b[0;34m\u001b[0m\u001b[0;34m\u001b[0m\u001b[0m\n\u001b[1;32m     69\u001b[0m             \u001b[0mself\u001b[0m\u001b[0;34m.\u001b[0m\u001b[0mx\u001b[0m \u001b[0;34m=\u001b[0m \u001b[0mnp\u001b[0m\u001b[0;34m.\u001b[0m\u001b[0masarray\u001b[0m\u001b[0;34m(\u001b[0m\u001b[0mx\u001b[0m\u001b[0;34m)\u001b[0m\u001b[0;34m.\u001b[0m\u001b[0mcopy\u001b[0m\u001b[0;34m(\u001b[0m\u001b[0;34m)\u001b[0m\u001b[0;34m\u001b[0m\u001b[0;34m\u001b[0m\u001b[0m\n\u001b[0;32m---> 70\u001b[0;31m             \u001b[0mfg\u001b[0m \u001b[0;34m=\u001b[0m \u001b[0mself\u001b[0m\u001b[0;34m.\u001b[0m\u001b[0mfun\u001b[0m\u001b[0;34m(\u001b[0m\u001b[0mx\u001b[0m\u001b[0;34m,\u001b[0m \u001b[0;34m*\u001b[0m\u001b[0margs\u001b[0m\u001b[0;34m)\u001b[0m\u001b[0;34m\u001b[0m\u001b[0;34m\u001b[0m\u001b[0m\n\u001b[0m\u001b[1;32m     71\u001b[0m             \u001b[0mself\u001b[0m\u001b[0;34m.\u001b[0m\u001b[0mjac\u001b[0m \u001b[0;34m=\u001b[0m \u001b[0mfg\u001b[0m\u001b[0;34m[\u001b[0m\u001b[0;36m1\u001b[0m\u001b[0;34m]\u001b[0m\u001b[0;34m\u001b[0m\u001b[0;34m\u001b[0m\u001b[0m\n\u001b[1;32m     72\u001b[0m             \u001b[0mself\u001b[0m\u001b[0;34m.\u001b[0m\u001b[0m_value\u001b[0m \u001b[0;34m=\u001b[0m \u001b[0mfg\u001b[0m\u001b[0;34m[\u001b[0m\u001b[0;36m0\u001b[0m\u001b[0;34m]\u001b[0m\u001b[0;34m\u001b[0m\u001b[0;34m\u001b[0m\u001b[0m\n",
      "\u001b[0;32m/Library/Frameworks/Python.framework/Versions/3.9/lib/python3.9/site-packages/sklearn/linear_model/_logistic.py\u001b[0m in \u001b[0;36mfunc\u001b[0;34m(x, *args)\u001b[0m\n\u001b[1;32m    772\u001b[0m \u001b[0;34m\u001b[0m\u001b[0m\n\u001b[1;32m    773\u001b[0m             \u001b[0;32mdef\u001b[0m \u001b[0mfunc\u001b[0m\u001b[0;34m(\u001b[0m\u001b[0mx\u001b[0m\u001b[0;34m,\u001b[0m \u001b[0;34m*\u001b[0m\u001b[0margs\u001b[0m\u001b[0;34m)\u001b[0m\u001b[0;34m:\u001b[0m\u001b[0;34m\u001b[0m\u001b[0;34m\u001b[0m\u001b[0m\n\u001b[0;32m--> 774\u001b[0;31m                 \u001b[0;32mreturn\u001b[0m \u001b[0m_multinomial_loss_grad\u001b[0m\u001b[0;34m(\u001b[0m\u001b[0mx\u001b[0m\u001b[0;34m,\u001b[0m \u001b[0;34m*\u001b[0m\u001b[0margs\u001b[0m\u001b[0;34m)\u001b[0m\u001b[0;34m[\u001b[0m\u001b[0;36m0\u001b[0m\u001b[0;34m:\u001b[0m\u001b[0;36m2\u001b[0m\u001b[0;34m]\u001b[0m\u001b[0;34m\u001b[0m\u001b[0;34m\u001b[0m\u001b[0m\n\u001b[0m\u001b[1;32m    775\u001b[0m \u001b[0;34m\u001b[0m\u001b[0m\n\u001b[1;32m    776\u001b[0m         \u001b[0;32melif\u001b[0m \u001b[0msolver\u001b[0m \u001b[0;34m==\u001b[0m \u001b[0;34m\"newton-cg\"\u001b[0m\u001b[0;34m:\u001b[0m\u001b[0;34m\u001b[0m\u001b[0;34m\u001b[0m\u001b[0m\n",
      "\u001b[0;32m/Library/Frameworks/Python.framework/Versions/3.9/lib/python3.9/site-packages/sklearn/linear_model/_logistic.py\u001b[0m in \u001b[0;36m_multinomial_loss_grad\u001b[0;34m(w, X, Y, alpha, sample_weight)\u001b[0m\n\u001b[1;32m    348\u001b[0m     \u001b[0mloss\u001b[0m\u001b[0;34m,\u001b[0m \u001b[0mp\u001b[0m\u001b[0;34m,\u001b[0m \u001b[0mw\u001b[0m \u001b[0;34m=\u001b[0m \u001b[0m_multinomial_loss\u001b[0m\u001b[0;34m(\u001b[0m\u001b[0mw\u001b[0m\u001b[0;34m,\u001b[0m \u001b[0mX\u001b[0m\u001b[0;34m,\u001b[0m \u001b[0mY\u001b[0m\u001b[0;34m,\u001b[0m \u001b[0malpha\u001b[0m\u001b[0;34m,\u001b[0m \u001b[0msample_weight\u001b[0m\u001b[0;34m)\u001b[0m\u001b[0;34m\u001b[0m\u001b[0;34m\u001b[0m\u001b[0m\n\u001b[1;32m    349\u001b[0m     \u001b[0msample_weight\u001b[0m \u001b[0;34m=\u001b[0m \u001b[0msample_weight\u001b[0m\u001b[0;34m[\u001b[0m\u001b[0;34m:\u001b[0m\u001b[0;34m,\u001b[0m \u001b[0mnp\u001b[0m\u001b[0;34m.\u001b[0m\u001b[0mnewaxis\u001b[0m\u001b[0;34m]\u001b[0m\u001b[0;34m\u001b[0m\u001b[0;34m\u001b[0m\u001b[0m\n\u001b[0;32m--> 350\u001b[0;31m     \u001b[0mdiff\u001b[0m \u001b[0;34m=\u001b[0m \u001b[0msample_weight\u001b[0m \u001b[0;34m*\u001b[0m \u001b[0;34m(\u001b[0m\u001b[0mp\u001b[0m \u001b[0;34m-\u001b[0m \u001b[0mY\u001b[0m\u001b[0;34m)\u001b[0m\u001b[0;34m\u001b[0m\u001b[0;34m\u001b[0m\u001b[0m\n\u001b[0m\u001b[1;32m    351\u001b[0m     \u001b[0mgrad\u001b[0m\u001b[0;34m[\u001b[0m\u001b[0;34m:\u001b[0m\u001b[0;34m,\u001b[0m \u001b[0;34m:\u001b[0m\u001b[0mn_features\u001b[0m\u001b[0;34m]\u001b[0m \u001b[0;34m=\u001b[0m \u001b[0msafe_sparse_dot\u001b[0m\u001b[0;34m(\u001b[0m\u001b[0mdiff\u001b[0m\u001b[0;34m.\u001b[0m\u001b[0mT\u001b[0m\u001b[0;34m,\u001b[0m \u001b[0mX\u001b[0m\u001b[0;34m)\u001b[0m\u001b[0;34m\u001b[0m\u001b[0;34m\u001b[0m\u001b[0m\n\u001b[1;32m    352\u001b[0m     \u001b[0mgrad\u001b[0m\u001b[0;34m[\u001b[0m\u001b[0;34m:\u001b[0m\u001b[0;34m,\u001b[0m \u001b[0;34m:\u001b[0m\u001b[0mn_features\u001b[0m\u001b[0;34m]\u001b[0m \u001b[0;34m+=\u001b[0m \u001b[0malpha\u001b[0m \u001b[0;34m*\u001b[0m \u001b[0mw\u001b[0m\u001b[0;34m\u001b[0m\u001b[0;34m\u001b[0m\u001b[0m\n",
      "\u001b[0;31mKeyboardInterrupt\u001b[0m: "
     ]
    }
   ],
   "source": [
    "#Hint: you can use sklearn.linear_model.LogisticRegression() to achieve an estimation\n",
    "shuffledArr = np.concatenate((np.reshape(df2.Customer_ID.values,(len(df2),1)), np.reshape(df2.SKU.values,(len(df2),1))),axis=1)\n",
    "np.random.shuffle(shuffledArr)\n",
    "\n",
    "size = len(df2)\n",
    "train = int(9*len(df2)/10)\n",
    "test = len(df2) - train\n",
    "\n",
    "IDs = shuffledArr[0:size,0]\n",
    "cats = shuffledArr[0:size,1]\n",
    "\n",
    "\n",
    "X = np.zeros((size,featureCount + 1))\n",
    "y = np.zeros(size)\n",
    "\n",
    "\n",
    "for i in tqdm(range(size)):\n",
    "    X[i,0:featureCount] = custFeatureArr[IDs[i] - 1]\n",
    "    X[i,featureCount] = prices[SKUIndices[cats[i]]]\n",
    "    y[i] = SKUIndices[cats[i]]\n",
    "    \n",
    "lm.LogisticRegression(solver=\"lbfgs\") \n",
    "lm.LogisticRegression(n_jobs=-1) \n",
    "lm.LogisticRegression(multi_class='multinomial')\n",
    "    \n",
    "tic = time.time()\n",
    "model = lm.LogisticRegression().fit(X[0:train,:], y[0:train])\n",
    "print(time.time() - tic)\n",
    "\n",
    "%store model\n",
    "\n",
    "# toc = time.time()\n",
    "# scores = model.score(X[train:train+test,:],y[train:train+test])\n",
    "# print(time.time() - toc)\n",
    "# print(scores)\n",
    "\n",
    "# print(model.predict(x_train).sum())\n",
    "# print(y_train.sum())\n",
    "  \n",
    "# print(np.unique(y_train))\n",
    "# print(np.where(model.predict(x_train) > 0))\n",
    "# print(model.predict(x_train)[np.where(model.predict(x_train) > 0)])\n",
    "# print(np.where(y_train > 0))\n",
    "# print(y_train[np.where(model.predict(x_train) > 0)])\n",
    "\n",
    "#print(scores.sum()/10)\n"
   ]
  },
  {
   "cell_type": "code",
   "execution_count": 137,
   "id": "efdc70ca",
   "metadata": {},
   "outputs": [
    {
     "name": "stdout",
     "output_type": "stream",
     "text": [
      "(array([   11,    55,   153,   161,   170,   180,   248,   269,   373,\n",
      "         379,   410,   415,   418,   509,   530,   534,   535,   554,\n",
      "         560,   573,   597,   621,   743,   755,   765,   785,   793,\n",
      "         799,   800,   816,   855,   860,   870,   900,   927,   963,\n",
      "         970,   994,  1020,  1022,  1045,  1118,  1121,  1188,  1194,\n",
      "        1204,  1207,  1229,  1258,  1355,  1364,  1374,  1391,  1419,\n",
      "        1421,  1433,  1436,  1458,  1485,  1495,  1564,  1605,  1622,\n",
      "        1632,  1652,  1675,  1682,  1777,  1796,  1825,  1828,  1842,\n",
      "        1862,  1930,  1994,  2011,  2017,  2026,  2056,  2066,  2069,\n",
      "        2071,  2083,  2099,  2144,  2154,  2161,  2172,  2228,  2240,\n",
      "        2315,  2340,  2438,  2456,  2458,  2469,  2617,  2646,  2649,\n",
      "        2655,  2707,  2711,  2729,  2731,  2740,  2747,  2768,  2787,\n",
      "        2794,  2820,  2824,  2846,  2859,  2883,  2890,  2997,  3017,\n",
      "        3027,  3064,  3065,  3066,  3096,  3110,  3114,  3149,  3156,\n",
      "        3189,  3213,  3220,  3282,  3384,  3391,  3410,  3440,  3452,\n",
      "        3492,  3521,  3583,  3609,  3629,  3644,  3670,  3719,  3754,\n",
      "        3834,  3857,  3897,  3909,  3951,  3960,  3968,  3969,  3996,\n",
      "        4047,  4052,  4107,  4140,  4227,  4245,  4295,  4306,  4370,\n",
      "        4377,  4391,  4405,  4437,  4483,  4491,  4513,  4531,  4561,\n",
      "        4593,  4595,  4606,  4612,  4614,  4639,  4640,  4667,  4682,\n",
      "        4700,  4730,  4746,  4753,  4794,  4795,  4823,  4827,  4829,\n",
      "        4835,  4845,  4852,  4935,  4948,  5010,  5099,  5108,  5124,\n",
      "        5133,  5145,  5192,  5238,  5268,  5271,  5320,  5385,  5395,\n",
      "        5441,  5461,  5488,  5547,  5578,  5580,  5582,  5597,  5612,\n",
      "        5672,  5696,  5716,  5790,  5800,  5818,  5826,  5830,  5854,\n",
      "        5894,  5981,  5990,  5999,  6021,  6040,  6126,  6137,  6146,\n",
      "        6162,  6180,  6185,  6189,  6231,  6324,  6344,  6352,  6368,\n",
      "        6390,  6391,  6403,  6429,  6542,  6548,  6559,  6562,  6650,\n",
      "        6658,  6689,  6714,  6737,  6759,  6816,  6831,  6832,  6852,\n",
      "        6921,  6958,  6970,  6978,  7029,  7042,  7086,  7120,  7144,\n",
      "        7151,  7212,  7228,  7365,  7377,  7449,  7535,  7536,  7568,\n",
      "        7584,  7645,  7789,  7847,  7861,  7870,  7875,  7897,  7910,\n",
      "        7911,  7936,  7968,  7986,  8005,  8010,  8020,  8043,  8068,\n",
      "        8084,  8129,  8135,  8212,  8251,  8299,  8316,  8344,  8387,\n",
      "        8442,  8463,  8477,  8486,  8551,  8665,  8668,  8688,  8712,\n",
      "        8805,  8846,  8848,  8909,  8912,  8918,  8920,  8989,  9004,\n",
      "        9013,  9033,  9060,  9064,  9115,  9135,  9197,  9199,  9203,\n",
      "        9251,  9260,  9314,  9350,  9357,  9364,  9370,  9382,  9388,\n",
      "        9404,  9442,  9490,  9532,  9561,  9578,  9648,  9659,  9729,\n",
      "        9785,  9801,  9840,  9912,  9923,  9934,  9984,  9986,  9989,\n",
      "       10031, 10093, 10121, 10183, 10212, 10230, 10253, 10256, 10259,\n",
      "       10274, 10282, 10284, 10286, 10329, 10382, 10413, 10425, 10457,\n",
      "       10459, 10464, 10496, 10548, 10597, 10623, 10625, 10628, 10716,\n",
      "       10748, 10800, 10818, 10823, 10868, 10892, 10926, 10984, 10988,\n",
      "       10997, 11005, 11052, 11114, 11118, 11125, 11255, 11265, 11352,\n",
      "       11431, 11436, 11475, 11512, 11513, 11529, 11557, 11593, 11596,\n",
      "       11613, 11642, 11655, 11682, 11765, 11788, 11810, 11830, 11922,\n",
      "       11960, 11991, 12065, 12103, 12110, 12158, 12175, 12184, 12240,\n",
      "       12257, 12259, 12275, 12289, 12291, 12292, 12293, 12332, 12419,\n",
      "       12463, 12526, 12560, 12571, 12579, 12589, 12632, 12646, 12670,\n",
      "       12697, 12699, 12715, 12790, 12807, 12844, 12846, 12925, 12977,\n",
      "       12981, 12986, 13008, 13009, 13039, 13041, 13060, 13182, 13190,\n",
      "       13211, 13241, 13290, 13339, 13369, 13377, 13399, 13405, 13415,\n",
      "       13433, 13494, 13504, 13506, 13509, 13510, 13525, 13615, 13621,\n",
      "       13637, 13665, 13666, 13705, 13744, 13766, 13790, 13800, 13868,\n",
      "       13943, 14061, 14096, 14114, 14152, 14173, 14185, 14206, 14265,\n",
      "       14276, 14286, 14316, 14363, 14371, 14386, 14396, 14428, 14442,\n",
      "       14479, 14483, 14494, 14592, 14609, 14637, 14669, 14687, 14690,\n",
      "       14701, 14708, 14710, 14770, 14781, 14820, 14825, 14897, 14936,\n",
      "       15000, 15114, 15130, 15142, 15205, 15214, 15237, 15247, 15249,\n",
      "       15292, 15329, 15333, 15357, 15369, 15393, 15410, 15433, 15479,\n",
      "       15491, 15509, 15555, 15574, 15610, 15641, 15696, 15726, 15740,\n",
      "       15742, 15756, 15757, 15780, 15791, 15795, 15802, 15827, 15856,\n",
      "       15863, 15886, 15917, 15940, 15965, 15969, 15983, 15985, 16002,\n",
      "       16010, 16028, 16067, 16115, 16120, 16140, 16192, 16204, 16239,\n",
      "       16281, 16292, 16383, 16408, 16494, 16496, 16512, 16521, 16529,\n",
      "       16530, 16539, 16552, 16555, 16557, 16579, 16587, 16651, 16710,\n",
      "       16722, 16724, 16742, 16756, 16807, 16843, 16846, 16882, 16884,\n",
      "       16918, 16919, 16972, 16996, 16997, 17016, 17056, 17137, 17225,\n",
      "       17238, 17256, 17278, 17292, 17347, 17356, 17363, 17400, 17452,\n",
      "       17458, 17494, 17495, 17546, 17602, 17620, 17636, 17682, 17742,\n",
      "       17750, 17773, 17780, 17820, 17850, 17885, 17965, 18090, 18122,\n",
      "       18129, 18142, 18145, 18177, 18242, 18243, 18244, 18249, 18258,\n",
      "       18269, 18277, 18282, 18323, 18430, 18433, 18437, 18449, 18492,\n",
      "       18563, 18603, 18616, 18651, 18672, 18728, 18819, 18862, 18875]),)\n",
      "[4505. 4505. 4505. 3736. 4505. 4505. 1554. 4505. 4505. 4505. 4505. 4505.\n",
      " 4505. 4505. 4058. 4505. 4505. 4505. 4505. 4505. 4505. 4505. 4505. 4505.\n",
      " 4505. 4505. 4505. 4505. 2072. 4505. 4505. 4505. 4505. 4505. 4505. 4505.\n",
      " 3636. 4505. 2072. 4505.  607. 4505. 3664. 4505. 4505. 4505. 4505. 2189.\n",
      " 4505. 3636. 4505. 4505. 4505. 4505. 4505. 4505. 4505. 4505. 4505. 4505.\n",
      " 4505. 4505. 4505. 4505. 4505. 4505. 1877. 4505. 4505. 4505. 4058. 4505.\n",
      " 4505. 4505. 4505. 4505. 4505. 4505. 3318. 4058. 4505. 4505. 4505. 4505.\n",
      " 4505. 4505. 4505. 4505. 4505. 4505. 4505. 4505. 4505. 4505. 4505. 4505.\n",
      " 4505. 4505. 4505. 3664. 4505. 4505. 1813. 4505. 4505. 4505. 4505. 4505.\n",
      " 4505. 1877. 4505. 3664. 4505. 3636. 4505. 3664. 4505. 4505. 4505. 4505.\n",
      " 4505. 4505. 1813. 3636. 4505. 4505. 4505. 4505. 4505. 4505. 4505. 4505.\n",
      " 4505. 4505. 4505. 4505. 4505. 4505. 4505. 4505. 4505. 4505. 4505. 4505.\n",
      " 4505. 4505. 4505. 4505. 4505. 4505. 4505. 4505. 4505. 4505. 4505. 4505.\n",
      " 4505. 4505. 4505. 4505. 4505. 4505. 4505. 4505. 4505. 4505. 4505. 4505.\n",
      " 4505. 3664. 4505. 4505. 4505. 4505. 4505. 4505. 4505. 4505. 4505. 4505.\n",
      " 4505. 3636. 4505. 3636. 4058. 4505. 4505. 4505. 4505. 1813. 4505. 4505.\n",
      " 4505. 4505. 4505. 4505. 4505. 4505. 2024. 4505. 4505. 5114. 4505. 4505.\n",
      " 4505. 3636. 4505. 4505. 4505. 4505. 3636. 4505. 4505. 4505. 3664. 4505.\n",
      " 4505. 4505. 4505. 4505. 4505. 4505. 4505. 4505. 4505. 4505. 4326. 4505.\n",
      " 4505. 1554. 4505. 3636. 4505. 4505. 4505. 4505. 4505. 4505. 4505. 4505.\n",
      " 4505. 4505. 4505. 4505. 4505. 4505. 1877. 4505. 4505. 4505. 4520. 4505.\n",
      " 4505. 4505. 4505. 4505. 4505. 4505. 4505. 4505. 4505. 4505. 4505. 4505.\n",
      " 4505. 4505. 4505. 4505. 4505. 1877. 4505. 4505. 2024. 4505. 4020. 4505.\n",
      " 4505. 4505. 4505. 4505. 4505. 4505. 4058. 4505. 4505. 4505. 4505. 4505.\n",
      " 4505. 4505. 4505. 1813. 4505. 4505. 4505. 4505. 4505. 4505. 4505. 4505.\n",
      " 4505. 3664. 4505. 4505. 4505. 3636. 4505. 4505. 4505. 4505. 4505. 4505.\n",
      " 4505. 4505. 4505. 4505. 4505. 4058. 4505. 4505. 4505. 3664. 4505. 4505.\n",
      " 4505. 4505. 4505. 1554. 4505. 4505. 4505. 4505. 4505. 4505. 4505. 4505.\n",
      " 4505. 4505. 4505. 4020. 4505. 4505. 4505. 4505. 1554. 4505. 4505. 4505.\n",
      " 4505. 4505. 3636. 4505. 4505. 4505. 4505. 4505. 1877. 4505. 4505. 3318.\n",
      " 3318. 4505. 4505. 3664. 4505. 4505. 4505. 3664. 4505. 4505. 4505. 4505.\n",
      " 4505. 4505. 4505. 4505. 4505. 4505.  607. 4505. 4505. 4505. 4505. 4505.\n",
      " 4505. 4505. 4505. 3664. 4505. 4505. 4505. 3664. 4505. 4505.  702. 3664.\n",
      " 4505. 4505. 4505. 4505. 4505. 3475. 4505. 4505. 4505. 4505. 4505. 4505.\n",
      " 4505. 4505. 3636. 4505. 4505. 3664. 4505. 4505. 3664. 4505. 3636. 4505.\n",
      " 4505. 4505. 4505. 2072. 4505. 4505. 4505. 3475. 4505. 3636. 4020. 3664.\n",
      " 3664. 3318. 4505. 4505. 4505. 4505. 4505. 3664. 4505. 4505. 4505. 4505.\n",
      " 4505. 4505. 1554. 4505. 4505. 4505. 4505. 4505. 3664. 4505. 4505. 4505.\n",
      " 4505. 4505. 4505. 4505. 1877. 2072. 4505. 4505. 4505. 1877. 4505. 4505.\n",
      " 4505. 4505. 4505. 4505. 4505. 4505. 4505. 4505. 4505. 4505. 4505. 3636.\n",
      " 4505. 4505. 4505. 4505. 4505. 4505. 2072. 4505. 2072. 4505. 4505. 4505.\n",
      " 4505. 4505. 4505. 3318. 4505. 4505. 4505. 4505. 4505. 4505. 4505. 4505.\n",
      " 4505. 4505. 2072. 4505. 3636. 4505. 4505. 4505. 4505. 3318. 3318. 4505.\n",
      " 4505. 4505. 4505. 3636. 4505. 3318. 4505. 4505. 4505. 4505. 4505. 4505.\n",
      " 4505. 4505. 4505. 4505. 4505. 3664. 4505. 4505. 4505. 4020. 4505. 4505.\n",
      " 4505. 4505. 4505. 4505. 4505. 4505. 4505. 4505. 4505. 4505. 4505. 4505.\n",
      " 4505. 4505. 4505. 4505. 4505. 4505. 4505. 4505. 4505. 4505. 4505. 4505.\n",
      " 4505. 4505. 4505. 4505. 4505. 4505. 4505. 4505. 4505. 4505. 4505. 4505.\n",
      " 4505. 2072. 4505. 4505. 3636. 4505. 4505. 4505. 4505. 4505. 4505. 4505.\n",
      " 1813. 3636. 4505. 4505. 4505. 4505. 4505. 4505. 4505. 4505. 3636. 4505.\n",
      " 4505. 2096. 4505. 4505. 4505. 4505. 1877. 3636. 4505. 4505. 4505. 4020.\n",
      " 2072. 3664. 4505. 4505. 4505. 4505. 4505. 4505. 2072. 4505. 1813. 4505.\n",
      " 4505. 4505. 4505. 4505. 4505. 4505. 4505. 1813. 4505. 4505. 4505. 4505.\n",
      " 4505. 4505. 4505. 4505. 4505. 1813. 4505. 4505. 3318. 4505. 4505. 4505.\n",
      " 4505. 4505. 4505. 4505. 4505. 4505. 4505. 4505. 4505. 1877. 4505. 1554.\n",
      " 3664. 4505. 1877. 4505. 4505. 4505. 4505. 4505. 4505. 4505. 4505. 4505.\n",
      " 4505. 4505. 4505.]\n",
      "(array([    3,     6,    11, ..., 18873, 18874, 18875]),)\n",
      "[   0.    0. 4505. ...    0.    0. 4505.]\n",
      "Percent Correct Positive Classification:  0.0\n",
      "Percent Correct Negative Classification:  31.251324433142617\n",
      "Percent Positive Misclassification:  3.554778554778555\n",
      "Percent Incorrect Negative Classification:  65.17270608179699\n",
      "Percent Incorrect Positive Classification:  0.021190930281839375\n"
     ]
    }
   ],
   "source": [
    "%store -r model\n",
    "prediction = model.predict(X[train:train+test,:])\n",
    "print(np.where(prediction > 0))\n",
    "print(prediction[np.where(prediction > 0)])\n",
    "print(np.where(y[train:train+test] > 0))\n",
    "print(prediction[np.where(y[train:train+test] > 0)])\n",
    "count = 0\n",
    "secondCount = 0\n",
    "thirdCount = 0\n",
    "fourthCount = 0\n",
    "fifthCount = 0\n",
    "sixthCount = 0\n",
    "\n",
    "for i in range(len(prediction)):\n",
    "    if prediction[i] == y[train + i] and prediction[i] > 0:\n",
    "        count = count + 1\n",
    "    if prediction[i] == y[train + i] and prediction[i] == 0:\n",
    "        secondCount = secondCount + 1\n",
    "    if y[train + i] > 0 and prediction[i] > 0 and prediction[i] != y[train + i]:\n",
    "        thirdCount = thirdCount + 1\n",
    "    if y[train + i] > 0 and prediction[i] == 0:\n",
    "        fourthCount = fourthCount + 1\n",
    "    if prediction[i] > 0 and y[train + i]  == 0:\n",
    "        fifthCount = fifthCount + 1\n",
    "  \n",
    "        \n",
    "total = len(prediction)/100\n",
    "print(\"Percent Correct Positive Classification: \",count/total)\n",
    "print(\"Percent Correct Negative Classification: \",secondCount/total)\n",
    "print(\"Percent Positive Misclassification: \",thirdCount/total)\n",
    "print(\"Percent Incorrect Negative Classification: \",fourthCount/total)\n",
    "print(\"Percent Incorrect Positive Classification: \",fifthCount/total)\n",
    "        \n"
   ]
  },
  {
   "cell_type": "code",
   "execution_count": 130,
   "id": "28f468b7",
   "metadata": {},
   "outputs": [
    {
     "name": "stdout",
     "output_type": "stream",
     "text": [
      "5141\n",
      "[   0    1    2 ... 5240 5241 5242]\n"
     ]
    }
   ],
   "source": [
    "# from math import comb\n",
    "# from decimal import *\n",
    "# toc = time.time()\n",
    "# scores = model.score(X[train:train+test,:],y[train:train+test])\n",
    "# print(time.time() - toc)\n",
    "# print(scores)\n",
    "# print(model.coef_.shape)\n",
    "\n",
    "# val = Decimal(comb(int(total*100),count))\n",
    "# print( val * Decimal(((1/5243)**count)) * Decimal(((5242/5243)**(5243-count))))\n",
    "\n",
    "# coef = model.coef_\n",
    "\n",
    "print(coef.shape[0])\n",
    "print(model.classes_.astype(int))\n",
    "    "
   ]
  },
  {
   "cell_type": "markdown",
   "id": "5f404fd4",
   "metadata": {},
   "source": [
    "## Part 2\n",
    "### Question 1\n",
    "Construct a multi-armed bandit algorithm such that\n",
    "\n",
    "1. It is randomly initialized at first and selects **one** product out of $j$ available products.\n",
    "2. It updates  $\\beta_{0j}, \\beta_{1j},\\cdots \\beta_{kj}$ and $\\alpha_j$  over  time by observing the utility $\\widehat{u}_{ij}$ of each product $j$ it selected in the past and selects new products\n"
   ]
  },
  {
   "cell_type": "code",
   "execution_count": 230,
   "id": "e04e4738",
   "metadata": {},
   "outputs": [
    {
     "name": "stderr",
     "output_type": "stream",
     "text": [
      "\r",
      "  0%|                                                     | 0/1 [00:00<?, ?it/s]"
     ]
    },
    {
     "name": "stdout",
     "output_type": "stream",
     "text": [
      "0\n",
      "1\n",
      "2\n",
      "3\n",
      "4\n",
      "5\n",
      "6\n",
      "7\n",
      "8\n"
     ]
    },
    {
     "name": "stderr",
     "output_type": "stream",
     "text": [
      "100%|█████████████████████████████████████████████| 1/1 [00:01<00:00,  1.92s/it]"
     ]
    },
    {
     "name": "stdout",
     "output_type": "stream",
     "text": [
      "9\n"
     ]
    },
    {
     "name": "stderr",
     "output_type": "stream",
     "text": [
      "\n"
     ]
    }
   ],
   "source": [
    "#Hint: Try ridge regression on each arm separately,\n",
    "\n",
    "numIters = 10\n",
    "numCustomers = 1\n",
    "alpha = np.sqrt((featureCount + 1) * 0)\n",
    "reward = 0.1\n",
    "\n",
    "classes = model.classes_.astype(int)\n",
    "numClasses = classes.shape[0]\n",
    "coef = model.coef_\n",
    "indices = np.zeros((numCustomers,numIters))\n",
    "\n",
    "\n",
    "shuffledCustomers = custFeatureArr[0:numCustomers,:]\n",
    "np.random.shuffle(shuffledCustomers)\n",
    "Vecs = np.zeros((numProd,featureCount + 1))\n",
    "Arms = np.zeros((numProd,featureCount + 1,featureCount + 1))\n",
    "thetas = np.zeros((numProd,featureCount + 1))\n",
    "probs = np.zeros(numProd)\n",
    "xVec = np.zeros((9,1))\n",
    "XVecT = np.transpose(xVec)\n",
    "\n",
    "for customer in tqdm(range(numCustomers)):\n",
    "    \n",
    "    xVec[0:8,0] = shuffledCustomers[customer,:]\n",
    "    XVecT = np.transpose(xVec)\n",
    "    \n",
    "    for i in range(numIters):\n",
    "        alpha = np.sqrt((featureCount + 1) * np.log(i+1))\n",
    "        print(i)\n",
    "        count = 1\n",
    "        for j in classes:\n",
    "            if (j == 0):\n",
    "                continue\n",
    "                \n",
    "            xVec[8,:] = prices[j] \n",
    "            xVec = xVec * coef[count].reshape(9,1)\n",
    "            count = count + 1\n",
    "            xVecT = np.transpose(xVec)\n",
    "                    \n",
    "            if (i == 0):\n",
    "                Arms[j,:,:] = np.identity(9)\n",
    "                \n",
    "            thetas[j,:] = np.dot(np.linalg.inv(Arms[j,:,:]),Vecs[j,:])\n",
    "            probs[j] = np.squeeze(np.dot(np.transpose(thetas[j,:]),xVec)) + alpha * np.squeeze(np.sqrt(np.dot(np.dot(xVecT,Arms[j,:,:]),xVec)))\n",
    "            \n",
    "        index = np.argmax(probs)\n",
    "        indices[customer,i] = probs[index]\n",
    "        Arms[index,:,:] = Arms[index,:,:] + np.dot(xVec,xVecT)\n",
    "        Vecs[index,:] = Vecs[index,:] + np.squeeze((reward * xVec))\n",
    "        \n",
    "        \n",
    "\n",
    "\n",
    "\n"
   ]
  },
  {
   "cell_type": "code",
   "execution_count": 231,
   "id": "97ef920b",
   "metadata": {},
   "outputs": [
    {
     "name": "stdout",
     "output_type": "stream",
     "text": [
      "[[ 0.         15.69503073 20.3172521  23.39804257 25.80032613 27.82077857\n",
      "  29.59612567 31.20033778 32.67782649 34.05730373]]\n"
     ]
    }
   ],
   "source": [
    "print(indices)\n",
    "\n",
    "\n",
    "\n",
    "\n",
    "\n",
    "\n",
    "\n",
    "\n",
    "\n"
   ]
  },
  {
   "cell_type": "markdown",
   "id": "59c55bb5",
   "metadata": {},
   "source": [
    "### Question 2\n",
    "\n",
    " Draw 1000 random consumers from your data. For each consumer,  run your online learning algorithm for 100 steps. Note that this is a simulation process --- i.e., your algorithm itself does not know $\\beta_{0j}, \\beta_{1j},\\cdots \\beta_{kj}$ and $\\alpha_j$, but can only observe the $\\widehat{u}_{ij}$ for any product $j$ that the algorithm pulled (i.e., purchased).     \n",
    " For each randomly picked consumer $i$, compute the difference $\\Delta_i$ between the  maximum utility $\\max_j\\widehat{u}_{ij}$ (i.e., consumer $i$'s  utility for her  favorite product) and the average utility that your algorithm\n",
    "achieved at the 100th step. Compute the average of $\\Delta_i$ over those 1000 consumers, and explain why there is such a difference.  "
   ]
  },
  {
   "cell_type": "code",
   "execution_count": null,
   "id": "b6b3851e",
   "metadata": {},
   "outputs": [],
   "source": [
    "def rewards_difference():\n",
    "    \n",
    "    \n",
    "    return \n",
    "\n",
    "\n",
    "\n",
    "def simulation():\n",
    "    \n",
    "    \n",
    "    return \n",
    "\n",
    "\n",
    "\n",
    "\n",
    "    \n",
    "\n"
   ]
  },
  {
   "cell_type": "markdown",
   "id": "04b91ba4",
   "metadata": {},
   "source": [
    "Explain why there is such a difference."
   ]
  },
  {
   "cell_type": "markdown",
   "id": "6239d3c1",
   "metadata": {},
   "source": [
    "**Please input your answer in this cell:**"
   ]
  }
 ],
 "metadata": {
  "kernelspec": {
   "display_name": "Python 3 (ipykernel)",
   "language": "python",
   "name": "python3"
  },
  "language_info": {
   "codemirror_mode": {
    "name": "ipython",
    "version": 3
   },
   "file_extension": ".py",
   "mimetype": "text/x-python",
   "name": "python",
   "nbconvert_exporter": "python",
   "pygments_lexer": "ipython3",
   "version": "3.9.7"
  }
 },
 "nbformat": 4,
 "nbformat_minor": 5
}
